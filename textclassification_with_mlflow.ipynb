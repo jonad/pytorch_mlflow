{
  "nbformat": 4,
  "nbformat_minor": 0,
  "metadata": {
    "colab": {
      "name": "textclassification_with_mlflow.ipynb",
      "provenance": [],
      "toc_visible": true,
      "mount_file_id": "1nZNyM5n9T3r-Pb5cDqHCiGaafUwLhQMV",
      "authorship_tag": "ABX9TyP9UxyJQSoBs3uIUeBSugxm",
      "include_colab_link": true
    },
    "kernelspec": {
      "name": "python3",
      "display_name": "Python 3"
    },
    "accelerator": "GPU",
    "widgets": {
      "application/vnd.jupyter.widget-state+json": {
        "f99349033fe14c88872b91558ecddee9": {
          "model_module": "@jupyter-widgets/controls",
          "model_name": "HBoxModel",
          "state": {
            "_view_name": "HBoxView",
            "_dom_classes": [],
            "_model_name": "HBoxModel",
            "_view_module": "@jupyter-widgets/controls",
            "_model_module_version": "1.5.0",
            "_view_count": null,
            "_view_module_version": "1.5.0",
            "box_style": "",
            "layout": "IPY_MODEL_3f2f5ff54fd245c99362a3d552de9dee",
            "_model_module": "@jupyter-widgets/controls",
            "children": [
              "IPY_MODEL_ae837a0315e84880adddfbb4729caa37",
              "IPY_MODEL_e580cc7f899f4895af432651c2efe679"
            ]
          }
        },
        "3f2f5ff54fd245c99362a3d552de9dee": {
          "model_module": "@jupyter-widgets/base",
          "model_name": "LayoutModel",
          "state": {
            "_view_name": "LayoutView",
            "grid_template_rows": null,
            "right": null,
            "justify_content": null,
            "_view_module": "@jupyter-widgets/base",
            "overflow": null,
            "_model_module_version": "1.2.0",
            "_view_count": null,
            "flex_flow": null,
            "width": null,
            "min_width": null,
            "border": null,
            "align_items": null,
            "bottom": null,
            "_model_module": "@jupyter-widgets/base",
            "top": null,
            "grid_column": null,
            "overflow_y": null,
            "overflow_x": null,
            "grid_auto_flow": null,
            "grid_area": null,
            "grid_template_columns": null,
            "flex": null,
            "_model_name": "LayoutModel",
            "justify_items": null,
            "grid_row": null,
            "max_height": null,
            "align_content": null,
            "visibility": null,
            "align_self": null,
            "height": null,
            "min_height": null,
            "padding": null,
            "grid_auto_rows": null,
            "grid_gap": null,
            "max_width": null,
            "order": null,
            "_view_module_version": "1.2.0",
            "grid_template_areas": null,
            "object_position": null,
            "object_fit": null,
            "grid_auto_columns": null,
            "margin": null,
            "display": null,
            "left": null
          }
        },
        "ae837a0315e84880adddfbb4729caa37": {
          "model_module": "@jupyter-widgets/controls",
          "model_name": "FloatProgressModel",
          "state": {
            "_view_name": "ProgressView",
            "style": "IPY_MODEL_732790ab40824c3ca6e1365a272d068f",
            "_dom_classes": [],
            "description": "100%",
            "_model_name": "FloatProgressModel",
            "bar_style": "success",
            "max": 50000,
            "_view_module": "@jupyter-widgets/controls",
            "_model_module_version": "1.5.0",
            "value": 50000,
            "_view_count": null,
            "_view_module_version": "1.5.0",
            "orientation": "horizontal",
            "min": 0,
            "description_tooltip": null,
            "_model_module": "@jupyter-widgets/controls",
            "layout": "IPY_MODEL_ff1f38ab21ad4b1ead72291f27043c0e"
          }
        },
        "e580cc7f899f4895af432651c2efe679": {
          "model_module": "@jupyter-widgets/controls",
          "model_name": "HTMLModel",
          "state": {
            "_view_name": "HTMLView",
            "style": "IPY_MODEL_f033033b448046a3acc75dee300de530",
            "_dom_classes": [],
            "description": "",
            "_model_name": "HTMLModel",
            "placeholder": "​",
            "_view_module": "@jupyter-widgets/controls",
            "_model_module_version": "1.5.0",
            "value": " 50000/50000 [00:17&lt;00:00, 2906.85it/s]",
            "_view_count": null,
            "_view_module_version": "1.5.0",
            "description_tooltip": null,
            "_model_module": "@jupyter-widgets/controls",
            "layout": "IPY_MODEL_8093638fbf8b4dedbe254a753b752f25"
          }
        },
        "732790ab40824c3ca6e1365a272d068f": {
          "model_module": "@jupyter-widgets/controls",
          "model_name": "ProgressStyleModel",
          "state": {
            "_view_name": "StyleView",
            "_model_name": "ProgressStyleModel",
            "description_width": "initial",
            "_view_module": "@jupyter-widgets/base",
            "_model_module_version": "1.5.0",
            "_view_count": null,
            "_view_module_version": "1.2.0",
            "bar_color": null,
            "_model_module": "@jupyter-widgets/controls"
          }
        },
        "ff1f38ab21ad4b1ead72291f27043c0e": {
          "model_module": "@jupyter-widgets/base",
          "model_name": "LayoutModel",
          "state": {
            "_view_name": "LayoutView",
            "grid_template_rows": null,
            "right": null,
            "justify_content": null,
            "_view_module": "@jupyter-widgets/base",
            "overflow": null,
            "_model_module_version": "1.2.0",
            "_view_count": null,
            "flex_flow": null,
            "width": null,
            "min_width": null,
            "border": null,
            "align_items": null,
            "bottom": null,
            "_model_module": "@jupyter-widgets/base",
            "top": null,
            "grid_column": null,
            "overflow_y": null,
            "overflow_x": null,
            "grid_auto_flow": null,
            "grid_area": null,
            "grid_template_columns": null,
            "flex": null,
            "_model_name": "LayoutModel",
            "justify_items": null,
            "grid_row": null,
            "max_height": null,
            "align_content": null,
            "visibility": null,
            "align_self": null,
            "height": null,
            "min_height": null,
            "padding": null,
            "grid_auto_rows": null,
            "grid_gap": null,
            "max_width": null,
            "order": null,
            "_view_module_version": "1.2.0",
            "grid_template_areas": null,
            "object_position": null,
            "object_fit": null,
            "grid_auto_columns": null,
            "margin": null,
            "display": null,
            "left": null
          }
        },
        "f033033b448046a3acc75dee300de530": {
          "model_module": "@jupyter-widgets/controls",
          "model_name": "DescriptionStyleModel",
          "state": {
            "_view_name": "StyleView",
            "_model_name": "DescriptionStyleModel",
            "description_width": "",
            "_view_module": "@jupyter-widgets/base",
            "_model_module_version": "1.5.0",
            "_view_count": null,
            "_view_module_version": "1.2.0",
            "_model_module": "@jupyter-widgets/controls"
          }
        },
        "8093638fbf8b4dedbe254a753b752f25": {
          "model_module": "@jupyter-widgets/base",
          "model_name": "LayoutModel",
          "state": {
            "_view_name": "LayoutView",
            "grid_template_rows": null,
            "right": null,
            "justify_content": null,
            "_view_module": "@jupyter-widgets/base",
            "overflow": null,
            "_model_module_version": "1.2.0",
            "_view_count": null,
            "flex_flow": null,
            "width": null,
            "min_width": null,
            "border": null,
            "align_items": null,
            "bottom": null,
            "_model_module": "@jupyter-widgets/base",
            "top": null,
            "grid_column": null,
            "overflow_y": null,
            "overflow_x": null,
            "grid_auto_flow": null,
            "grid_area": null,
            "grid_template_columns": null,
            "flex": null,
            "_model_name": "LayoutModel",
            "justify_items": null,
            "grid_row": null,
            "max_height": null,
            "align_content": null,
            "visibility": null,
            "align_self": null,
            "height": null,
            "min_height": null,
            "padding": null,
            "grid_auto_rows": null,
            "grid_gap": null,
            "max_width": null,
            "order": null,
            "_view_module_version": "1.2.0",
            "grid_template_areas": null,
            "object_position": null,
            "object_fit": null,
            "grid_auto_columns": null,
            "margin": null,
            "display": null,
            "left": null
          }
        },
        "37c4c9806f1f44ecba4b5f9a4a21a8d4": {
          "model_module": "@jupyter-widgets/controls",
          "model_name": "HBoxModel",
          "state": {
            "_view_name": "HBoxView",
            "_dom_classes": [],
            "_model_name": "HBoxModel",
            "_view_module": "@jupyter-widgets/controls",
            "_model_module_version": "1.5.0",
            "_view_count": null,
            "_view_module_version": "1.5.0",
            "box_style": "",
            "layout": "IPY_MODEL_a7aed643c9584b299c4d8e8a212a75f9",
            "_model_module": "@jupyter-widgets/controls",
            "children": [
              "IPY_MODEL_cf43120c0c664cb3883f9835fda515c6",
              "IPY_MODEL_dd0fe45d702f45b1a9dc5b74f95b38ce"
            ]
          }
        },
        "a7aed643c9584b299c4d8e8a212a75f9": {
          "model_module": "@jupyter-widgets/base",
          "model_name": "LayoutModel",
          "state": {
            "_view_name": "LayoutView",
            "grid_template_rows": null,
            "right": null,
            "justify_content": null,
            "_view_module": "@jupyter-widgets/base",
            "overflow": null,
            "_model_module_version": "1.2.0",
            "_view_count": null,
            "flex_flow": null,
            "width": null,
            "min_width": null,
            "border": null,
            "align_items": null,
            "bottom": null,
            "_model_module": "@jupyter-widgets/base",
            "top": null,
            "grid_column": null,
            "overflow_y": null,
            "overflow_x": null,
            "grid_auto_flow": null,
            "grid_area": null,
            "grid_template_columns": null,
            "flex": null,
            "_model_name": "LayoutModel",
            "justify_items": null,
            "grid_row": null,
            "max_height": null,
            "align_content": null,
            "visibility": null,
            "align_self": null,
            "height": null,
            "min_height": null,
            "padding": null,
            "grid_auto_rows": null,
            "grid_gap": null,
            "max_width": null,
            "order": null,
            "_view_module_version": "1.2.0",
            "grid_template_areas": null,
            "object_position": null,
            "object_fit": null,
            "grid_auto_columns": null,
            "margin": null,
            "display": null,
            "left": null
          }
        },
        "cf43120c0c664cb3883f9835fda515c6": {
          "model_module": "@jupyter-widgets/controls",
          "model_name": "FloatProgressModel",
          "state": {
            "_view_name": "ProgressView",
            "style": "IPY_MODEL_257e8c4bda2945f694bc1fa998f8959d",
            "_dom_classes": [],
            "description": "100%",
            "_model_name": "FloatProgressModel",
            "bar_style": "success",
            "max": 50000,
            "_view_module": "@jupyter-widgets/controls",
            "_model_module_version": "1.5.0",
            "value": 50000,
            "_view_count": null,
            "_view_module_version": "1.5.0",
            "orientation": "horizontal",
            "min": 0,
            "description_tooltip": null,
            "_model_module": "@jupyter-widgets/controls",
            "layout": "IPY_MODEL_5017b8281f7c447aad16ae2975fc2369"
          }
        },
        "dd0fe45d702f45b1a9dc5b74f95b38ce": {
          "model_module": "@jupyter-widgets/controls",
          "model_name": "HTMLModel",
          "state": {
            "_view_name": "HTMLView",
            "style": "IPY_MODEL_6d00a8404cd04ae78fdba6970327519a",
            "_dom_classes": [],
            "description": "",
            "_model_name": "HTMLModel",
            "placeholder": "​",
            "_view_module": "@jupyter-widgets/controls",
            "_model_module_version": "1.5.0",
            "value": " 50000/50000 [13:48&lt;00:00, 60.37it/s]",
            "_view_count": null,
            "_view_module_version": "1.5.0",
            "description_tooltip": null,
            "_model_module": "@jupyter-widgets/controls",
            "layout": "IPY_MODEL_ab199281189746268478f7fe327f270a"
          }
        },
        "257e8c4bda2945f694bc1fa998f8959d": {
          "model_module": "@jupyter-widgets/controls",
          "model_name": "ProgressStyleModel",
          "state": {
            "_view_name": "StyleView",
            "_model_name": "ProgressStyleModel",
            "description_width": "initial",
            "_view_module": "@jupyter-widgets/base",
            "_model_module_version": "1.5.0",
            "_view_count": null,
            "_view_module_version": "1.2.0",
            "bar_color": null,
            "_model_module": "@jupyter-widgets/controls"
          }
        },
        "5017b8281f7c447aad16ae2975fc2369": {
          "model_module": "@jupyter-widgets/base",
          "model_name": "LayoutModel",
          "state": {
            "_view_name": "LayoutView",
            "grid_template_rows": null,
            "right": null,
            "justify_content": null,
            "_view_module": "@jupyter-widgets/base",
            "overflow": null,
            "_model_module_version": "1.2.0",
            "_view_count": null,
            "flex_flow": null,
            "width": null,
            "min_width": null,
            "border": null,
            "align_items": null,
            "bottom": null,
            "_model_module": "@jupyter-widgets/base",
            "top": null,
            "grid_column": null,
            "overflow_y": null,
            "overflow_x": null,
            "grid_auto_flow": null,
            "grid_area": null,
            "grid_template_columns": null,
            "flex": null,
            "_model_name": "LayoutModel",
            "justify_items": null,
            "grid_row": null,
            "max_height": null,
            "align_content": null,
            "visibility": null,
            "align_self": null,
            "height": null,
            "min_height": null,
            "padding": null,
            "grid_auto_rows": null,
            "grid_gap": null,
            "max_width": null,
            "order": null,
            "_view_module_version": "1.2.0",
            "grid_template_areas": null,
            "object_position": null,
            "object_fit": null,
            "grid_auto_columns": null,
            "margin": null,
            "display": null,
            "left": null
          }
        },
        "6d00a8404cd04ae78fdba6970327519a": {
          "model_module": "@jupyter-widgets/controls",
          "model_name": "DescriptionStyleModel",
          "state": {
            "_view_name": "StyleView",
            "_model_name": "DescriptionStyleModel",
            "description_width": "",
            "_view_module": "@jupyter-widgets/base",
            "_model_module_version": "1.5.0",
            "_view_count": null,
            "_view_module_version": "1.2.0",
            "_model_module": "@jupyter-widgets/controls"
          }
        },
        "ab199281189746268478f7fe327f270a": {
          "model_module": "@jupyter-widgets/base",
          "model_name": "LayoutModel",
          "state": {
            "_view_name": "LayoutView",
            "grid_template_rows": null,
            "right": null,
            "justify_content": null,
            "_view_module": "@jupyter-widgets/base",
            "overflow": null,
            "_model_module_version": "1.2.0",
            "_view_count": null,
            "flex_flow": null,
            "width": null,
            "min_width": null,
            "border": null,
            "align_items": null,
            "bottom": null,
            "_model_module": "@jupyter-widgets/base",
            "top": null,
            "grid_column": null,
            "overflow_y": null,
            "overflow_x": null,
            "grid_auto_flow": null,
            "grid_area": null,
            "grid_template_columns": null,
            "flex": null,
            "_model_name": "LayoutModel",
            "justify_items": null,
            "grid_row": null,
            "max_height": null,
            "align_content": null,
            "visibility": null,
            "align_self": null,
            "height": null,
            "min_height": null,
            "padding": null,
            "grid_auto_rows": null,
            "grid_gap": null,
            "max_width": null,
            "order": null,
            "_view_module_version": "1.2.0",
            "grid_template_areas": null,
            "object_position": null,
            "object_fit": null,
            "grid_auto_columns": null,
            "margin": null,
            "display": null,
            "left": null
          }
        },
        "f874d30acd61489aa1aa7ae08ea71f66": {
          "model_module": "@jupyter-widgets/controls",
          "model_name": "HBoxModel",
          "state": {
            "_view_name": "HBoxView",
            "_dom_classes": [],
            "_model_name": "HBoxModel",
            "_view_module": "@jupyter-widgets/controls",
            "_model_module_version": "1.5.0",
            "_view_count": null,
            "_view_module_version": "1.5.0",
            "box_style": "",
            "layout": "IPY_MODEL_b36cb751c02041589627ffcdb5a97872",
            "_model_module": "@jupyter-widgets/controls",
            "children": [
              "IPY_MODEL_e978e03ba1444719bfdc44b09f40b8ef",
              "IPY_MODEL_10d1773a6a404bff8e856918786782e0"
            ]
          }
        },
        "b36cb751c02041589627ffcdb5a97872": {
          "model_module": "@jupyter-widgets/base",
          "model_name": "LayoutModel",
          "state": {
            "_view_name": "LayoutView",
            "grid_template_rows": null,
            "right": null,
            "justify_content": null,
            "_view_module": "@jupyter-widgets/base",
            "overflow": null,
            "_model_module_version": "1.2.0",
            "_view_count": null,
            "flex_flow": null,
            "width": null,
            "min_width": null,
            "border": null,
            "align_items": null,
            "bottom": null,
            "_model_module": "@jupyter-widgets/base",
            "top": null,
            "grid_column": null,
            "overflow_y": null,
            "overflow_x": null,
            "grid_auto_flow": null,
            "grid_area": null,
            "grid_template_columns": null,
            "flex": null,
            "_model_name": "LayoutModel",
            "justify_items": null,
            "grid_row": null,
            "max_height": null,
            "align_content": null,
            "visibility": null,
            "align_self": null,
            "height": null,
            "min_height": null,
            "padding": null,
            "grid_auto_rows": null,
            "grid_gap": null,
            "max_width": null,
            "order": null,
            "_view_module_version": "1.2.0",
            "grid_template_areas": null,
            "object_position": null,
            "object_fit": null,
            "grid_auto_columns": null,
            "margin": null,
            "display": null,
            "left": null
          }
        },
        "e978e03ba1444719bfdc44b09f40b8ef": {
          "model_module": "@jupyter-widgets/controls",
          "model_name": "FloatProgressModel",
          "state": {
            "_view_name": "ProgressView",
            "style": "IPY_MODEL_bcb0a6cecda5480b8235294c9ca60b26",
            "_dom_classes": [],
            "description": "100%",
            "_model_name": "FloatProgressModel",
            "bar_style": "success",
            "max": 50000,
            "_view_module": "@jupyter-widgets/controls",
            "_model_module_version": "1.5.0",
            "value": 50000,
            "_view_count": null,
            "_view_module_version": "1.5.0",
            "orientation": "horizontal",
            "min": 0,
            "description_tooltip": null,
            "_model_module": "@jupyter-widgets/controls",
            "layout": "IPY_MODEL_eed86c6ec7bb4a4b8175ca548b394c2c"
          }
        },
        "10d1773a6a404bff8e856918786782e0": {
          "model_module": "@jupyter-widgets/controls",
          "model_name": "HTMLModel",
          "state": {
            "_view_name": "HTMLView",
            "style": "IPY_MODEL_7740e30a9f184b50976dc55f56c5ae0f",
            "_dom_classes": [],
            "description": "",
            "_model_name": "HTMLModel",
            "placeholder": "​",
            "_view_module": "@jupyter-widgets/controls",
            "_model_module_version": "1.5.0",
            "value": " 50000/50000 [00:12&lt;00:00, 4051.02it/s]",
            "_view_count": null,
            "_view_module_version": "1.5.0",
            "description_tooltip": null,
            "_model_module": "@jupyter-widgets/controls",
            "layout": "IPY_MODEL_033d165c52a04ce1a9d2a28d8018dde7"
          }
        },
        "bcb0a6cecda5480b8235294c9ca60b26": {
          "model_module": "@jupyter-widgets/controls",
          "model_name": "ProgressStyleModel",
          "state": {
            "_view_name": "StyleView",
            "_model_name": "ProgressStyleModel",
            "description_width": "initial",
            "_view_module": "@jupyter-widgets/base",
            "_model_module_version": "1.5.0",
            "_view_count": null,
            "_view_module_version": "1.2.0",
            "bar_color": null,
            "_model_module": "@jupyter-widgets/controls"
          }
        },
        "eed86c6ec7bb4a4b8175ca548b394c2c": {
          "model_module": "@jupyter-widgets/base",
          "model_name": "LayoutModel",
          "state": {
            "_view_name": "LayoutView",
            "grid_template_rows": null,
            "right": null,
            "justify_content": null,
            "_view_module": "@jupyter-widgets/base",
            "overflow": null,
            "_model_module_version": "1.2.0",
            "_view_count": null,
            "flex_flow": null,
            "width": null,
            "min_width": null,
            "border": null,
            "align_items": null,
            "bottom": null,
            "_model_module": "@jupyter-widgets/base",
            "top": null,
            "grid_column": null,
            "overflow_y": null,
            "overflow_x": null,
            "grid_auto_flow": null,
            "grid_area": null,
            "grid_template_columns": null,
            "flex": null,
            "_model_name": "LayoutModel",
            "justify_items": null,
            "grid_row": null,
            "max_height": null,
            "align_content": null,
            "visibility": null,
            "align_self": null,
            "height": null,
            "min_height": null,
            "padding": null,
            "grid_auto_rows": null,
            "grid_gap": null,
            "max_width": null,
            "order": null,
            "_view_module_version": "1.2.0",
            "grid_template_areas": null,
            "object_position": null,
            "object_fit": null,
            "grid_auto_columns": null,
            "margin": null,
            "display": null,
            "left": null
          }
        },
        "7740e30a9f184b50976dc55f56c5ae0f": {
          "model_module": "@jupyter-widgets/controls",
          "model_name": "DescriptionStyleModel",
          "state": {
            "_view_name": "StyleView",
            "_model_name": "DescriptionStyleModel",
            "description_width": "",
            "_view_module": "@jupyter-widgets/base",
            "_model_module_version": "1.5.0",
            "_view_count": null,
            "_view_module_version": "1.2.0",
            "_model_module": "@jupyter-widgets/controls"
          }
        },
        "033d165c52a04ce1a9d2a28d8018dde7": {
          "model_module": "@jupyter-widgets/base",
          "model_name": "LayoutModel",
          "state": {
            "_view_name": "LayoutView",
            "grid_template_rows": null,
            "right": null,
            "justify_content": null,
            "_view_module": "@jupyter-widgets/base",
            "overflow": null,
            "_model_module_version": "1.2.0",
            "_view_count": null,
            "flex_flow": null,
            "width": null,
            "min_width": null,
            "border": null,
            "align_items": null,
            "bottom": null,
            "_model_module": "@jupyter-widgets/base",
            "top": null,
            "grid_column": null,
            "overflow_y": null,
            "overflow_x": null,
            "grid_auto_flow": null,
            "grid_area": null,
            "grid_template_columns": null,
            "flex": null,
            "_model_name": "LayoutModel",
            "justify_items": null,
            "grid_row": null,
            "max_height": null,
            "align_content": null,
            "visibility": null,
            "align_self": null,
            "height": null,
            "min_height": null,
            "padding": null,
            "grid_auto_rows": null,
            "grid_gap": null,
            "max_width": null,
            "order": null,
            "_view_module_version": "1.2.0",
            "grid_template_areas": null,
            "object_position": null,
            "object_fit": null,
            "grid_auto_columns": null,
            "margin": null,
            "display": null,
            "left": null
          }
        }
      }
    }
  },
  "cells": [
    {
      "cell_type": "markdown",
      "metadata": {
        "id": "view-in-github",
        "colab_type": "text"
      },
      "source": [
        "<a href=\"https://colab.research.google.com/github/jonad/pytorch_mlflow/blob/master/textclassification_with_mlflow.ipynb\" target=\"_parent\"><img src=\"https://colab.research.google.com/assets/colab-badge.svg\" alt=\"Open In Colab\"/></a>"
      ]
    },
    {
      "cell_type": "markdown",
      "metadata": {
        "id": "-dKdrx6eAqdA",
        "colab_type": "text"
      },
      "source": [
        "## Packaging a Pytorch Model Using MLFLOW"
      ]
    },
    {
      "cell_type": "markdown",
      "metadata": {
        "id": "yQ7PkyB7BHj3",
        "colab_type": "text"
      },
      "source": [
        "### Introduction"
      ]
    },
    {
      "cell_type": "markdown",
      "metadata": {
        "id": "vkJ8RpVTBKMD",
        "colab_type": "text"
      },
      "source": [
        "In this notebook, I will demonstrate the steps involved in building a text classification model in PyTorch and packaging it using [MLflow Models](www.mlflow.org/docs/latest/models.html)."
      ]
    },
    {
      "cell_type": "markdown",
      "metadata": {
        "id": "Jgow_NeABV6F",
        "colab_type": "text"
      },
      "source": [
        "### Dataset"
      ]
    },
    {
      "cell_type": "markdown",
      "metadata": {
        "id": "3_jdMep1BY7f",
        "colab_type": "text"
      },
      "source": [
        "The dataset used in this notebook is a subset of this [Kaggle Competition](https://www.kaggle.com/c/jigsaw-unintended-bias-in-toxicity-classification). I have selected about 50000 datapoints. "
      ]
    },
    {
      "cell_type": "code",
      "metadata": {
        "id": "AcXYOt1ydXFH",
        "colab_type": "code",
        "colab": {}
      },
      "source": [
        "#useful import\n",
        "import pandas as pd\n",
        "import warnings\n",
        "warnings.filterwarnings('ignore')\n",
        "# import package\n",
        "import pandas as pd\n",
        "import warnings\n",
        "from tqdm import tqdm, notebook\n",
        "import random\n",
        "import os\n",
        "import torch\n",
        "import numpy as np\n",
        "import gc\n",
        "from keras.preprocessing import text, sequence\n",
        "from keras.preprocessing.text import Tokenizer\n",
        "from torch import nn\n",
        "from torch.utils import data\n",
        "from torch.nn import functional as F\n",
        "import time\n",
        "\n",
        "notebook.tqdm.pandas()\n",
        "warnings.filterwarnings('ignore')\n",
        "\n",
        "def seed_everything(seed=1234):\n",
        "    random.seed(seed)\n",
        "    os.environ['PYTHONHASHSEED'] = str(seed)\n",
        "    np.random.seed(seed)\n",
        "    torch.manual_seed(seed)\n",
        "    torch.cuda.manual_seed(seed)\n",
        "    torch.backends.cudnn.deterministic = True\n",
        "\n",
        "seed_everything()\n",
        "\n",
        "train = pd.read_csv('/content/drive/My Drive/jsaw/minijisaw.csv')"
      ],
      "execution_count": 0,
      "outputs": []
    },
    {
      "cell_type": "code",
      "metadata": {
        "id": "QhxWEzG0dhQt",
        "colab_type": "code",
        "colab": {
          "base_uri": "https://localhost:8080/",
          "height": 462
        },
        "outputId": "f73f75bd-5162-426b-9025-948e7ee4f5ae"
      },
      "source": [
        "train.head()"
      ],
      "execution_count": 28,
      "outputs": [
        {
          "output_type": "execute_result",
          "data": {
            "text/html": [
              "<div>\n",
              "<style scoped>\n",
              "    .dataframe tbody tr th:only-of-type {\n",
              "        vertical-align: middle;\n",
              "    }\n",
              "\n",
              "    .dataframe tbody tr th {\n",
              "        vertical-align: top;\n",
              "    }\n",
              "\n",
              "    .dataframe thead th {\n",
              "        text-align: right;\n",
              "    }\n",
              "</style>\n",
              "<table border=\"1\" class=\"dataframe\">\n",
              "  <thead>\n",
              "    <tr style=\"text-align: right;\">\n",
              "      <th></th>\n",
              "      <th>Unnamed: 0</th>\n",
              "      <th>id</th>\n",
              "      <th>target</th>\n",
              "      <th>comment_text</th>\n",
              "      <th>severe_toxicity</th>\n",
              "      <th>obscene</th>\n",
              "      <th>identity_attack</th>\n",
              "      <th>insult</th>\n",
              "      <th>threat</th>\n",
              "      <th>asian</th>\n",
              "      <th>atheist</th>\n",
              "      <th>bisexual</th>\n",
              "      <th>black</th>\n",
              "      <th>buddhist</th>\n",
              "      <th>christian</th>\n",
              "      <th>female</th>\n",
              "      <th>heterosexual</th>\n",
              "      <th>hindu</th>\n",
              "      <th>homosexual_gay_or_lesbian</th>\n",
              "      <th>intellectual_or_learning_disability</th>\n",
              "      <th>jewish</th>\n",
              "      <th>latino</th>\n",
              "      <th>male</th>\n",
              "      <th>muslim</th>\n",
              "      <th>other_disability</th>\n",
              "      <th>other_gender</th>\n",
              "      <th>other_race_or_ethnicity</th>\n",
              "      <th>other_religion</th>\n",
              "      <th>other_sexual_orientation</th>\n",
              "      <th>physical_disability</th>\n",
              "      <th>psychiatric_or_mental_illness</th>\n",
              "      <th>transgender</th>\n",
              "      <th>white</th>\n",
              "      <th>created_date</th>\n",
              "      <th>publication_id</th>\n",
              "      <th>parent_id</th>\n",
              "      <th>article_id</th>\n",
              "      <th>rating</th>\n",
              "      <th>funny</th>\n",
              "      <th>wow</th>\n",
              "      <th>sad</th>\n",
              "      <th>likes</th>\n",
              "      <th>disagree</th>\n",
              "      <th>sexual_explicit</th>\n",
              "      <th>identity_annotator_count</th>\n",
              "      <th>toxicity_annotator_count</th>\n",
              "    </tr>\n",
              "  </thead>\n",
              "  <tbody>\n",
              "    <tr>\n",
              "      <th>0</th>\n",
              "      <td>1219341</td>\n",
              "      <td>5605493</td>\n",
              "      <td>0.0</td>\n",
              "      <td>The cause of the Ashcroft Reserve fire is unde...</td>\n",
              "      <td>0.0</td>\n",
              "      <td>0.0</td>\n",
              "      <td>0.0</td>\n",
              "      <td>0.0</td>\n",
              "      <td>0.0</td>\n",
              "      <td>NaN</td>\n",
              "      <td>NaN</td>\n",
              "      <td>NaN</td>\n",
              "      <td>NaN</td>\n",
              "      <td>NaN</td>\n",
              "      <td>NaN</td>\n",
              "      <td>NaN</td>\n",
              "      <td>NaN</td>\n",
              "      <td>NaN</td>\n",
              "      <td>NaN</td>\n",
              "      <td>NaN</td>\n",
              "      <td>NaN</td>\n",
              "      <td>NaN</td>\n",
              "      <td>NaN</td>\n",
              "      <td>NaN</td>\n",
              "      <td>NaN</td>\n",
              "      <td>NaN</td>\n",
              "      <td>NaN</td>\n",
              "      <td>NaN</td>\n",
              "      <td>NaN</td>\n",
              "      <td>NaN</td>\n",
              "      <td>NaN</td>\n",
              "      <td>NaN</td>\n",
              "      <td>NaN</td>\n",
              "      <td>2017-07-17 05:25:39.587035+00</td>\n",
              "      <td>54</td>\n",
              "      <td>5605272.0</td>\n",
              "      <td>355993</td>\n",
              "      <td>approved</td>\n",
              "      <td>0</td>\n",
              "      <td>0</td>\n",
              "      <td>0</td>\n",
              "      <td>6</td>\n",
              "      <td>0</td>\n",
              "      <td>0.0</td>\n",
              "      <td>0</td>\n",
              "      <td>4</td>\n",
              "    </tr>\n",
              "    <tr>\n",
              "      <th>1</th>\n",
              "      <td>696666</td>\n",
              "      <td>4974622</td>\n",
              "      <td>0.0</td>\n",
              "      <td>Would you like fries with your Nietzsche?</td>\n",
              "      <td>0.0</td>\n",
              "      <td>0.0</td>\n",
              "      <td>0.0</td>\n",
              "      <td>0.0</td>\n",
              "      <td>0.0</td>\n",
              "      <td>NaN</td>\n",
              "      <td>NaN</td>\n",
              "      <td>NaN</td>\n",
              "      <td>NaN</td>\n",
              "      <td>NaN</td>\n",
              "      <td>NaN</td>\n",
              "      <td>NaN</td>\n",
              "      <td>NaN</td>\n",
              "      <td>NaN</td>\n",
              "      <td>NaN</td>\n",
              "      <td>NaN</td>\n",
              "      <td>NaN</td>\n",
              "      <td>NaN</td>\n",
              "      <td>NaN</td>\n",
              "      <td>NaN</td>\n",
              "      <td>NaN</td>\n",
              "      <td>NaN</td>\n",
              "      <td>NaN</td>\n",
              "      <td>NaN</td>\n",
              "      <td>NaN</td>\n",
              "      <td>NaN</td>\n",
              "      <td>NaN</td>\n",
              "      <td>NaN</td>\n",
              "      <td>NaN</td>\n",
              "      <td>2017-03-08 06:28:38.365785+00</td>\n",
              "      <td>54</td>\n",
              "      <td>NaN</td>\n",
              "      <td>317415</td>\n",
              "      <td>approved</td>\n",
              "      <td>4</td>\n",
              "      <td>0</td>\n",
              "      <td>0</td>\n",
              "      <td>0</td>\n",
              "      <td>0</td>\n",
              "      <td>0.0</td>\n",
              "      <td>0</td>\n",
              "      <td>4</td>\n",
              "    </tr>\n",
              "    <tr>\n",
              "      <th>2</th>\n",
              "      <td>1440915</td>\n",
              "      <td>5880795</td>\n",
              "      <td>0.0</td>\n",
              "      <td>I'm going to join all the Trumpists here, and ...</td>\n",
              "      <td>0.0</td>\n",
              "      <td>0.0</td>\n",
              "      <td>0.0</td>\n",
              "      <td>0.0</td>\n",
              "      <td>0.0</td>\n",
              "      <td>NaN</td>\n",
              "      <td>NaN</td>\n",
              "      <td>NaN</td>\n",
              "      <td>NaN</td>\n",
              "      <td>NaN</td>\n",
              "      <td>NaN</td>\n",
              "      <td>NaN</td>\n",
              "      <td>NaN</td>\n",
              "      <td>NaN</td>\n",
              "      <td>NaN</td>\n",
              "      <td>NaN</td>\n",
              "      <td>NaN</td>\n",
              "      <td>NaN</td>\n",
              "      <td>NaN</td>\n",
              "      <td>NaN</td>\n",
              "      <td>NaN</td>\n",
              "      <td>NaN</td>\n",
              "      <td>NaN</td>\n",
              "      <td>NaN</td>\n",
              "      <td>NaN</td>\n",
              "      <td>NaN</td>\n",
              "      <td>NaN</td>\n",
              "      <td>NaN</td>\n",
              "      <td>NaN</td>\n",
              "      <td>2017-09-01 18:33:26.643885+00</td>\n",
              "      <td>55</td>\n",
              "      <td>NaN</td>\n",
              "      <td>373180</td>\n",
              "      <td>approved</td>\n",
              "      <td>0</td>\n",
              "      <td>0</td>\n",
              "      <td>0</td>\n",
              "      <td>0</td>\n",
              "      <td>0</td>\n",
              "      <td>0.0</td>\n",
              "      <td>0</td>\n",
              "      <td>4</td>\n",
              "    </tr>\n",
              "    <tr>\n",
              "      <th>3</th>\n",
              "      <td>1262489</td>\n",
              "      <td>5657909</td>\n",
              "      <td>0.0</td>\n",
              "      <td>I don't think the answer here is throwing arou...</td>\n",
              "      <td>0.0</td>\n",
              "      <td>0.0</td>\n",
              "      <td>0.0</td>\n",
              "      <td>0.0</td>\n",
              "      <td>0.0</td>\n",
              "      <td>NaN</td>\n",
              "      <td>NaN</td>\n",
              "      <td>NaN</td>\n",
              "      <td>NaN</td>\n",
              "      <td>NaN</td>\n",
              "      <td>NaN</td>\n",
              "      <td>NaN</td>\n",
              "      <td>NaN</td>\n",
              "      <td>NaN</td>\n",
              "      <td>NaN</td>\n",
              "      <td>NaN</td>\n",
              "      <td>NaN</td>\n",
              "      <td>NaN</td>\n",
              "      <td>NaN</td>\n",
              "      <td>NaN</td>\n",
              "      <td>NaN</td>\n",
              "      <td>NaN</td>\n",
              "      <td>NaN</td>\n",
              "      <td>NaN</td>\n",
              "      <td>NaN</td>\n",
              "      <td>NaN</td>\n",
              "      <td>NaN</td>\n",
              "      <td>NaN</td>\n",
              "      <td>NaN</td>\n",
              "      <td>2017-07-25 23:41:52.826250+00</td>\n",
              "      <td>54</td>\n",
              "      <td>NaN</td>\n",
              "      <td>359281</td>\n",
              "      <td>approved</td>\n",
              "      <td>0</td>\n",
              "      <td>1</td>\n",
              "      <td>2</td>\n",
              "      <td>36</td>\n",
              "      <td>1</td>\n",
              "      <td>0.0</td>\n",
              "      <td>0</td>\n",
              "      <td>4</td>\n",
              "    </tr>\n",
              "    <tr>\n",
              "      <th>4</th>\n",
              "      <td>1398136</td>\n",
              "      <td>5827263</td>\n",
              "      <td>0.2</td>\n",
              "      <td>I could not agree with you more.  Admiral Auco...</td>\n",
              "      <td>0.0</td>\n",
              "      <td>0.0</td>\n",
              "      <td>0.2</td>\n",
              "      <td>0.2</td>\n",
              "      <td>0.0</td>\n",
              "      <td>0.0</td>\n",
              "      <td>0.0</td>\n",
              "      <td>0.0</td>\n",
              "      <td>1.0</td>\n",
              "      <td>0.0</td>\n",
              "      <td>0.0</td>\n",
              "      <td>1.0</td>\n",
              "      <td>0.0</td>\n",
              "      <td>0.0</td>\n",
              "      <td>0.0</td>\n",
              "      <td>0.0</td>\n",
              "      <td>0.0</td>\n",
              "      <td>0.0</td>\n",
              "      <td>0.5</td>\n",
              "      <td>0.0</td>\n",
              "      <td>0.0</td>\n",
              "      <td>0.0</td>\n",
              "      <td>0.0</td>\n",
              "      <td>0.0</td>\n",
              "      <td>0.0</td>\n",
              "      <td>0.0</td>\n",
              "      <td>0.0</td>\n",
              "      <td>0.0</td>\n",
              "      <td>0.0</td>\n",
              "      <td>2017-08-23 20:23:53.862711+00</td>\n",
              "      <td>55</td>\n",
              "      <td>5824993.0</td>\n",
              "      <td>369582</td>\n",
              "      <td>approved</td>\n",
              "      <td>0</td>\n",
              "      <td>1</td>\n",
              "      <td>0</td>\n",
              "      <td>0</td>\n",
              "      <td>0</td>\n",
              "      <td>0.0</td>\n",
              "      <td>4</td>\n",
              "      <td>5</td>\n",
              "    </tr>\n",
              "  </tbody>\n",
              "</table>\n",
              "</div>"
            ],
            "text/plain": [
              "   Unnamed: 0       id  ...  identity_annotator_count toxicity_annotator_count\n",
              "0     1219341  5605493  ...                         0                        4\n",
              "1      696666  4974622  ...                         0                        4\n",
              "2     1440915  5880795  ...                         0                        4\n",
              "3     1262489  5657909  ...                         0                        4\n",
              "4     1398136  5827263  ...                         4                        5\n",
              "\n",
              "[5 rows x 46 columns]"
            ]
          },
          "metadata": {
            "tags": []
          },
          "execution_count": 28
        }
      ]
    },
    {
      "cell_type": "code",
      "metadata": {
        "id": "pELv3Pywdj6h",
        "colab_type": "code",
        "colab": {
          "base_uri": "https://localhost:8080/",
          "height": 221
        },
        "outputId": "51e5efdb-dfcf-4bae-ca6a-25cc44f73255"
      },
      "source": [
        "train.columns"
      ],
      "execution_count": 29,
      "outputs": [
        {
          "output_type": "execute_result",
          "data": {
            "text/plain": [
              "Index(['Unnamed: 0', 'id', 'target', 'comment_text', 'severe_toxicity',\n",
              "       'obscene', 'identity_attack', 'insult', 'threat', 'asian', 'atheist',\n",
              "       'bisexual', 'black', 'buddhist', 'christian', 'female', 'heterosexual',\n",
              "       'hindu', 'homosexual_gay_or_lesbian',\n",
              "       'intellectual_or_learning_disability', 'jewish', 'latino', 'male',\n",
              "       'muslim', 'other_disability', 'other_gender', 'other_race_or_ethnicity',\n",
              "       'other_religion', 'other_sexual_orientation', 'physical_disability',\n",
              "       'psychiatric_or_mental_illness', 'transgender', 'white', 'created_date',\n",
              "       'publication_id', 'parent_id', 'article_id', 'rating', 'funny', 'wow',\n",
              "       'sad', 'likes', 'disagree', 'sexual_explicit',\n",
              "       'identity_annotator_count', 'toxicity_annotator_count'],\n",
              "      dtype='object')"
            ]
          },
          "metadata": {
            "tags": []
          },
          "execution_count": 29
        }
      ]
    },
    {
      "cell_type": "code",
      "metadata": {
        "id": "GLzhxbpEdqZw",
        "colab_type": "code",
        "colab": {
          "base_uri": "https://localhost:8080/",
          "height": 34
        },
        "outputId": "028b92de-fa36-4b6b-ccb0-b7bf221842a2"
      },
      "source": [
        "train.shape"
      ],
      "execution_count": 30,
      "outputs": [
        {
          "output_type": "execute_result",
          "data": {
            "text/plain": [
              "(50000, 46)"
            ]
          },
          "metadata": {
            "tags": []
          },
          "execution_count": 30
        }
      ]
    },
    {
      "cell_type": "markdown",
      "metadata": {
        "id": "qHN_qOEOdtZQ",
        "colab_type": "text"
      },
      "source": [
        "The dataset contains 46 columns, but we will select the following columns to use in this notebook:\n",
        "\n",
        "\n",
        "1.   target: The output target or toxicity score.\n",
        "2.   comment_text: The input text  \n",
        "3.   Othe toxicity attributes: severe_toxicity, obscene, identity_attack, insult, threat.\n",
        "\n",
        "\n"
      ]
    },
    {
      "cell_type": "code",
      "metadata": {
        "id": "gkDa6Mo5d21P",
        "colab_type": "code",
        "colab": {}
      },
      "source": [
        "columns_to_use = ['target', 'comment_text', 'severe_toxicity', 'obscene', 'identity_attack', 'insult', 'threat']"
      ],
      "execution_count": 0,
      "outputs": []
    },
    {
      "cell_type": "code",
      "metadata": {
        "id": "BgoC8_lHelQ7",
        "colab_type": "code",
        "colab": {}
      },
      "source": [
        "mini_train = train[columns_to_use]"
      ],
      "execution_count": 0,
      "outputs": []
    },
    {
      "cell_type": "code",
      "metadata": {
        "id": "jx0lLbGEen8E",
        "colab_type": "code",
        "colab": {
          "base_uri": "https://localhost:8080/",
          "height": 289
        },
        "outputId": "a7c46513-ffc8-45d8-922b-318023af3ff0"
      },
      "source": [
        "mini_train.head()"
      ],
      "execution_count": 33,
      "outputs": [
        {
          "output_type": "execute_result",
          "data": {
            "text/html": [
              "<div>\n",
              "<style scoped>\n",
              "    .dataframe tbody tr th:only-of-type {\n",
              "        vertical-align: middle;\n",
              "    }\n",
              "\n",
              "    .dataframe tbody tr th {\n",
              "        vertical-align: top;\n",
              "    }\n",
              "\n",
              "    .dataframe thead th {\n",
              "        text-align: right;\n",
              "    }\n",
              "</style>\n",
              "<table border=\"1\" class=\"dataframe\">\n",
              "  <thead>\n",
              "    <tr style=\"text-align: right;\">\n",
              "      <th></th>\n",
              "      <th>target</th>\n",
              "      <th>comment_text</th>\n",
              "      <th>severe_toxicity</th>\n",
              "      <th>obscene</th>\n",
              "      <th>identity_attack</th>\n",
              "      <th>insult</th>\n",
              "      <th>threat</th>\n",
              "    </tr>\n",
              "  </thead>\n",
              "  <tbody>\n",
              "    <tr>\n",
              "      <th>0</th>\n",
              "      <td>0.0</td>\n",
              "      <td>The cause of the Ashcroft Reserve fire is unde...</td>\n",
              "      <td>0.0</td>\n",
              "      <td>0.0</td>\n",
              "      <td>0.0</td>\n",
              "      <td>0.0</td>\n",
              "      <td>0.0</td>\n",
              "    </tr>\n",
              "    <tr>\n",
              "      <th>1</th>\n",
              "      <td>0.0</td>\n",
              "      <td>Would you like fries with your Nietzsche?</td>\n",
              "      <td>0.0</td>\n",
              "      <td>0.0</td>\n",
              "      <td>0.0</td>\n",
              "      <td>0.0</td>\n",
              "      <td>0.0</td>\n",
              "    </tr>\n",
              "    <tr>\n",
              "      <th>2</th>\n",
              "      <td>0.0</td>\n",
              "      <td>I'm going to join all the Trumpists here, and ...</td>\n",
              "      <td>0.0</td>\n",
              "      <td>0.0</td>\n",
              "      <td>0.0</td>\n",
              "      <td>0.0</td>\n",
              "      <td>0.0</td>\n",
              "    </tr>\n",
              "    <tr>\n",
              "      <th>3</th>\n",
              "      <td>0.0</td>\n",
              "      <td>I don't think the answer here is throwing arou...</td>\n",
              "      <td>0.0</td>\n",
              "      <td>0.0</td>\n",
              "      <td>0.0</td>\n",
              "      <td>0.0</td>\n",
              "      <td>0.0</td>\n",
              "    </tr>\n",
              "    <tr>\n",
              "      <th>4</th>\n",
              "      <td>0.2</td>\n",
              "      <td>I could not agree with you more.  Admiral Auco...</td>\n",
              "      <td>0.0</td>\n",
              "      <td>0.0</td>\n",
              "      <td>0.2</td>\n",
              "      <td>0.2</td>\n",
              "      <td>0.0</td>\n",
              "    </tr>\n",
              "  </tbody>\n",
              "</table>\n",
              "</div>"
            ],
            "text/plain": [
              "   target                                       comment_text  ...  insult  threat\n",
              "0     0.0  The cause of the Ashcroft Reserve fire is unde...  ...     0.0     0.0\n",
              "1     0.0          Would you like fries with your Nietzsche?  ...     0.0     0.0\n",
              "2     0.0  I'm going to join all the Trumpists here, and ...  ...     0.0     0.0\n",
              "3     0.0  I don't think the answer here is throwing arou...  ...     0.0     0.0\n",
              "4     0.2  I could not agree with you more.  Admiral Auco...  ...     0.2     0.0\n",
              "\n",
              "[5 rows x 7 columns]"
            ]
          },
          "metadata": {
            "tags": []
          },
          "execution_count": 33
        }
      ]
    },
    {
      "cell_type": "markdown",
      "metadata": {
        "id": "tFdFH1gmBh6D",
        "colab_type": "text"
      },
      "source": [
        "### Data Preprocessing\n",
        "#### Cleaning"
      ]
    },
    {
      "cell_type": "markdown",
      "metadata": {
        "id": "7NOFeQV7dRtB",
        "colab_type": "text"
      },
      "source": [
        "As explained in this [kaggle notebook](https://www.kaggle.com/christofhenkel/how-to-preprocessing-when-using-embeddings). When using embeddings, the quality of our final model depends on how close of corpus's vocabulary is to the embeddings' vocabulary. The goal during preprocessing is to get your vocabulary as close to the embeddings as possible. To do so I performed the following steps:\n",
        "\n",
        "\n",
        "1.   Remove all symbols in the corpus that do not appear in the embeddings. A symbol is any character that is not an ASCII character, an integer, or any of the latin characters described below, including the whitespace.\n",
        "2. Handle contractions using the TreebankTokenizer.\n",
        "3.  Remove the apostrophe symbol at the beginning of the token words.\n",
        "\n"
      ]
    },
    {
      "cell_type": "markdown",
      "metadata": {
        "id": "ofh_HaQok_g5",
        "colab_type": "text"
      },
      "source": [
        "##### Remove Symbols"
      ]
    },
    {
      "cell_type": "markdown",
      "metadata": {
        "id": "6FrRYWuSlFwv",
        "colab_type": "text"
      },
      "source": [
        "I'm using GloVe embeddings - [glove.840B.300d.zip](https://nlp.stanford.edu/projects/glove/). After extracting the symbols both in the embeddings and the corpus, I divided them into two groups: SYMBOLS_TO_DELETE and SYMBOLS_TO_ISOLATE. SYMBOLS_TO_DELETE are symbols that don't appear in the embeddings, and SYMBOLS_TO_ISOLATE are symbols who appear in the embeddings."
      ]
    },
    {
      "cell_type": "code",
      "metadata": {
        "id": "5HIHH0C-mO8X",
        "colab_type": "code",
        "colab": {}
      },
      "source": [
        "latin_similar = \"\"\"’'‘ÆÐƎƏƐƔĲŊŒẞÞǷȜæðǝəɛɣĳŋœĸſßþƿȝĄƁÇĐƊĘĦĮƘŁØƠŞ\n",
        "ȘŢȚŦŲƯY̨Ƴąɓçđɗęħįƙłøơşșţțŧųưy̨ƴÁÀÂÄǍĂĀÃÅǺĄÆǼǢƁĆĊĈČÇĎḌĐƊÐÉÈĖÊ\n",
        "ËĚĔĒĘẸƎƏƐĠĜǦĞĢƔáàâäǎăāãåǻąæǽǣɓćċĉčçďḍđɗðéèėêëěĕēęẹǝəɛġĝǧğģ\n",
        "ɣĤḤĦIÍÌİÎÏǏĬĪĨĮỊĲĴĶƘĹĻŁĽĿʼNŃN̈ŇÑŅŊÓÒÔÖǑŎŌÕŐỌØǾƠŒĥḥħıíìiîïǐĭ\n",
        "īĩįịĳĵķƙĸĺļłľŀŉńn̈ňñņŋóòôöǒŏōõőọøǿơœŔŘŖŚŜŠŞȘṢẞŤŢṬŦÞÚÙÛÜǓŬŪŨ\n",
        "ŰŮŲỤƯẂẀŴẄǷÝỲŶŸȲỸƳŹŻŽẒŕřŗſśŝšşșṣßťţṭŧþúùûüǔŭūũűůųụưẃẁŵẅƿýỳŷÿȳỹƴźżžẓ\"\"\"\n",
        "\n",
        "SYMBOLS_TO_DELETE = \"\"\"\n",
        "\\n🍕\\r🐵😑\\ue014\\t\\uf818\\uf04a\\xad😢🐶️\\uf0e0😜😎👊\\u200b\\u200e😁عدويهصقأناخلىبمغر\n",
        "😍💖💵Е👎😀😂\\u202a\\u202c🔥😄🏻💥ᴍʏʀᴇɴᴅᴏᴀᴋʜᴜʟᴛᴄᴘʙғᴊᴡɢ😋👏שלוםבי😱‼\\x81エンジ故障\\u2009\n",
        "🚌ᴵ͞🌟😊😳😧🙀😐😕\\u200f👍😮😃😘אעכח💩💯⛽🚄🏼ஜ😖ᴠ🚲‐😟😈💪🙏🎯🌹😇💔😡\\x7f👌ἐὶήιὲκἀίῃἴξ\n",
        "🙄Ｈ😠\\ufeff\\u2028😉😤⛺🙂\\u3000تحكسة👮💙فزط😏🍾🎉😞\\u2008🏾😅😭👻😥😔😓🏽🎆🍻🍽🎶🌺🤔😪\\x08‑\n",
        "🐰🐇🐱🙆😨🙃💕𝘊𝘦𝘳𝘢𝘵𝘰𝘤𝘺𝘴𝘪𝘧𝘮𝘣💗💚地獄谷улкнПоАН🐾🐕😆ה🔗🚽歌舞伎🙈😴🏿🤗🇺🇸мυтѕ⤵🏆🎃😩\\u200a🌠🐟💫💰\n",
        "💎эпрд\\x95🖐🙅⛲🍰🤐👆🙌\\u2002💛🙁👀🙊🙉\\u2004ˢᵒʳʸᴼᴷᴺʷᵗʰᵉᵘ\\x13🚬🤓\\ue602😵άοόςέὸתמדףנרךצט😒͝🆕👅\n",
        "👥👄🔄🔤👉👤👶👲🔛🎓\\uf0b7\\uf04c\\x9f\\x10成都😣⏺😌🤑🌏😯ех😲Ἰᾶὁ💞🚓🔔📚🏀👐\\u202d💤🍇\\ue613小土豆🏡\n",
        "❔⁉\\u202f👠》कर्मा🇹🇼🌸蔡英文🌞🎲レクサス😛外国人关系Сб💋💀🎄💜🤢َِьыгя不是\\x9c\\x9d🗑\\u2005💃📣👿༼つ༽😰ḷЗз▱ц￼\n",
        "🤣卖温哥华议会下降你失去所有的钱加拿大坏税骗子🐝ツ🎅🍺آإشء🎵🌎͟ἔ油别克🤡🤥😬🤧й\\u2003🚀🤴\n",
        "ʲшчИОРФДЯМюж😝🖑ὐύύ特殊作戦群щ💨圆明园קℐ🏈😺🌍⏏ệ🍔🐮🍁🍆🍑🌮🌯🤦\\u200d𝓒𝓲𝓿𝓵안영하세요ЖљКћ🍀\n",
        "😫🤤ῦ我出生在了可以说普通话汉语好极🎼🕺🍸🥂🗽🎇🎊🆘🤠👩🖒🚪天一家⚲\\u2006⚭⚆⬭⬯⏖新✀╌🇫🇷🇩🇪🇮🇬🇧😷🇨🇦ХШ🌐\n",
        "\\x1f杀鸡给猴看ʁ𝗪𝗵𝗲𝗻𝘆𝗼𝘂𝗿𝗮𝗹𝗶𝘇𝗯𝘁𝗰𝘀𝘅𝗽𝘄𝗱📺ϖ\\u2000үսᴦᎥһͺ\\u2007հ\\u2001ɩｙｅ൦ｌƽｈ𝐓𝐡𝐞𝐫𝐮𝐝𝐚𝐃𝐜𝐩𝐭𝐢𝐨𝐧Ƅᴨןᑯ໐ΤᏧ௦Іᴑ܁𝐬𝐰𝐲𝐛𝐦𝐯𝐑𝐙𝐣𝐇𝐂𝐘𝟎ԜТᗞ౦\n",
        "〔Ꭻ𝐳𝐔𝐱𝟔𝟓𝐅🐋ﬃ💘💓ё𝘥𝘯𝘶💐🌋🌄🌅𝙬𝙖𝙨𝙤𝙣𝙡𝙮𝙘𝙠𝙚𝙙𝙜𝙧𝙥𝙩𝙪𝙗𝙞𝙝𝙛👺🐷ℋ𝐀𝐥𝐪🚶𝙢Ἱ🤘ͦ💸ج패티Ｗ𝙇ᵻ👂👃ɜ🎫\\uf0a7БУі🚢🚂ગુજરાતીῆ🏃𝓬𝓻𝓴𝓮𝓽𝓼☘﴾̯﴿₽\n",
        "\\ue807𝑻𝒆𝒍𝒕𝒉𝒓𝒖𝒂𝒏𝒅𝒔𝒎𝒗𝒊👽😙\\u200cЛ‒🎾👹⎌🏒⛸公寓养宠物吗🏄🐀🚑🤷操美𝒑𝒚𝒐𝑴🤙🐒欢迎来到阿拉斯ספ𝙫🐈𝒌𝙊𝙭𝙆𝙋𝙍𝘼𝙅ﷻ🦄巨收赢得白鬼愤怒要买额ẽ\n",
        "🚗🐳𝟏𝐟𝟖𝟑𝟕𝒄𝟗𝐠𝙄𝙃👇锟斤拷𝗢𝟳𝟱𝟬⦁マルハニチロ株式社⛷한국어ㄸㅓ니͜ʖ𝘿𝙔₵𝒩ℯ𝒾𝓁𝒶𝓉𝓇𝓊𝓃𝓈𝓅ℴ𝒻𝒽𝓀𝓌𝒸𝓎𝙏ζ𝙟𝘃𝗺𝟮𝟭𝟯𝟲👋🦊多伦🐽🎻🎹⛓🏹🍷🦆为和中友谊祝贺与\n",
        "其想象对法如直接问用自己猜本传教士没积唯认识基督徒曾经让相信耶稣复活死怪他但当们聊些政治题时候战胜因圣把全堂结婚孩恐惧且栗谓这样还♾🎸\n",
        "🤕🤒⛑🎁批判检讨🏝🦁🙋😶쥐스탱트뤼도석유가격인상이경제황을렵게만들지않록잘관리해야합다캐나에서대마초와화약금의품런성분갈때는반드시허된사용🔫👁\n",
        "凸ὰ💲🗯𝙈Ἄ𝒇𝒈𝒘𝒃𝑬𝑶𝕾𝖙𝖗𝖆𝖎𝖌𝖍𝖕𝖊𝖔𝖑𝖉𝖓𝖐𝖜𝖞𝖚𝖇𝕿𝖘𝖄𝖛𝖒𝖋𝖂𝕴𝖟𝖈𝕸👑🚿💡知彼百\\uf005𝙀𝒛𝑲𝑳𝑾𝒋𝟒😦𝙒𝘾𝘽🏐𝘩𝘨ὼṑ𝑱𝑹𝑫𝑵𝑪🇰🇵👾ᓇᒧᔭᐃᐧᐦᑳᐨᓃᓂᑲᐸᑭᑎᓀᐣ🐄🎈\n",
        "🔨🐎🤞🐸💟🎰🌝🛳点击查版🍭𝑥𝑦𝑧ＮＧ👣\\uf020っ🏉ф💭🎥Ξ🐴👨🤳🦍\\x0b🍩𝑯𝒒😗𝟐🏂👳🍗🕉🐲چی𝑮𝗕𝗴🍒ꜥⲣⲏ🐑⏰鉄リ事件ї💊「」\n",
        "\\uf203\\uf09a\\uf222\\ue608\\uf202\\uf099\\uf469\\ue607\\uf410\\ue600燻製シ虚偽屁理屈Г𝑩𝑰𝒀𝑺🌤𝗳𝗜𝗙𝗦𝗧🍊ὺἈἡχῖΛ⤏🇳𝒙ψՁմեռայինրւդձ冬至ὀ𝒁\n",
        "🔹🤚🍎𝑷🐂💅𝘬𝘱𝘸𝘷𝘐𝘭𝘓𝘖𝘹𝘲𝘫کΒώ💢ΜΟΝΑΕ🇱♲𝝈↴💒⊘Ȼ🚴🖕🖤🥘📍👈➕🚫🎨🌑🐻𝐎𝐍𝐊𝑭🤖🎎😼🕷ｇｒｎｔｉｄｕｆｂｋ𝟰🇴🇭🇻🇲𝗞𝗭𝗘𝗤👼📉🍟🍦🌈\n",
        "🔭《🐊🐍\\uf10aლڡ🐦\\U0001f92f\\U0001f92a🐡💳ἱ🙇𝗸𝗟𝗠𝗷🥜さようなら🔼\n",
        "\"\"\"\n",
        "\n",
        "SYMBOLS_TO_ISOLATE = \"\"\".,?!-;*\"…:—()%#$&_/@＼・ω+=”“[]^–>\\\\°<~\\xa0•≠™ˈʊɒ∞§{}·τα❤☺ɡ|¢→̶`❥━┣┫┗Ｏ►★©―ɪ✔®\n",
        "\\x96\\x92●£♥➤´¹☕≈÷♡◐║▬′ɔː€۩۞†μ✒➥═☆ˌ◄½ʻπδηλσερνʃ✬ＳＵＰＥＲＩＴ☻±♍µº¾✓◾؟．⬅℅»Вав❣⋅¿¬♫ＣＭβ█▓▒░⇒⭐›\n",
        "¡₂₃❧▰▔◞▀▂▃▄▅▆▇↙γ̄″☹➡«φ⅓„✋：¥̲̅́∙‛◇✏▷❓❗¶˚˙）сиʿ✨。ɑ\\x80◕！％¯\\x85−ﬂﬁ₁²ʌ¼⁴⁄₄⌠♭✘╪▶☭✭♪☔☠♂☃☎✈✌✰❆☙○‣\n",
        "⚓年∎ℒ▪▙☏⅛ｃａｓǀ℮¸ｗ‚∼‖ℳ❄←☼⋆ʒ⊂、⅔¨͡๏⚾⚽Φ×θ￦？（℃⏩☮⚠月✊❌⭕▸■⇌☐☑⚡☄ǫ╭∩╮，例＞ʕɐ̣Δ₀✞┈╱╲▏▕┃╰▊▋╯\n",
        "┳┊≥☒↑☝ɹ✅☛♩☞ＡＪＢ◔◡↓♀⬆̱ℏ\\x91⠀ˤ╚↺⇤∏✾◦♬³の｜／∵∴√Ω¤☜▲↳▫‿⬇✧ｏｖｍ－２０８＇‰≤∕ˆ⚜☁\n",
        "\"\"\"\n",
        "\n",
        "isolate_dict = {ord(c):f' {c} ' for c in SYMBOLS_TO_ISOLATE}\n",
        "remove_dict = {ord(c):f'' for c in SYMBOLS_TO_DELETE}\n",
        "\n",
        "def handle_symbols(x):\n",
        "    x = x.translate(remove_dict)\n",
        "    x = x.translate(isolate_dict)\n",
        "    return x\n"
      ],
      "execution_count": 0,
      "outputs": []
    },
    {
      "cell_type": "code",
      "metadata": {
        "id": "LEIPRDl3wMxb",
        "colab_type": "code",
        "colab": {
          "base_uri": "https://localhost:8080/",
          "height": 66,
          "referenced_widgets": [
            "f99349033fe14c88872b91558ecddee9",
            "3f2f5ff54fd245c99362a3d552de9dee",
            "ae837a0315e84880adddfbb4729caa37",
            "e580cc7f899f4895af432651c2efe679",
            "732790ab40824c3ca6e1365a272d068f",
            "ff1f38ab21ad4b1ead72291f27043c0e",
            "f033033b448046a3acc75dee300de530",
            "8093638fbf8b4dedbe254a753b752f25"
          ]
        },
        "outputId": "c2a5610f-c046-4744-92c4-801400f32d4b"
      },
      "source": [
        "from tqdm import tqdm, notebook\n",
        "notebook.tqdm.pandas()\n",
        "\n",
        "mini_train['comment_text'] = mini_train['comment_text'].progress_apply( lambda x: handle_symbols(x))"
      ],
      "execution_count": 35,
      "outputs": [
        {
          "output_type": "display_data",
          "data": {
            "application/vnd.jupyter.widget-view+json": {
              "model_id": "f99349033fe14c88872b91558ecddee9",
              "version_minor": 0,
              "version_major": 2
            },
            "text/plain": [
              "HBox(children=(FloatProgress(value=0.0, max=50000.0), HTML(value='')))"
            ]
          },
          "metadata": {
            "tags": []
          }
        },
        {
          "output_type": "stream",
          "text": [
            "\n"
          ],
          "name": "stdout"
        }
      ]
    },
    {
      "cell_type": "code",
      "metadata": {
        "id": "JEmlou8rxDjY",
        "colab_type": "code",
        "colab": {
          "base_uri": "https://localhost:8080/",
          "height": 54
        },
        "outputId": "d476f102-c72e-4de8-c908-6a8c0ac09704"
      },
      "source": [
        "mini_train['comment_text'][0]"
      ],
      "execution_count": 36,
      "outputs": [
        {
          "output_type": "execute_result",
          "data": {
            "text/plain": [
              "\"The cause of the Ashcroft Reserve fire is under investigation .  There are myriad rumours and speculation as to the cause ;  I should know ,  I live in Ashcroft and am the editor of the local paper .  Let's give the investigators a chance to sort things out . \""
            ]
          },
          "metadata": {
            "tags": []
          },
          "execution_count": 36
        }
      ]
    },
    {
      "cell_type": "markdown",
      "metadata": {
        "id": "5Ui1bG2JnPlH",
        "colab_type": "text"
      },
      "source": [
        "##### Handle Contractions"
      ]
    },
    {
      "cell_type": "markdown",
      "metadata": {
        "id": "nzgycp9Ondo_",
        "colab_type": "text"
      },
      "source": [
        "Instead of building a dictionary with all contractions and their corresponding word sequences, I'm using the [TreebankWordTokenizer](https://kite.com/python/docs/nltk.TreebankWordTokenizer) to handle contractions. The TreebankWordTokenizer split contractions into tokens that appear in GLoVe."
      ]
    },
    {
      "cell_type": "code",
      "metadata": {
        "id": "6tpyK7Ngm--Y",
        "colab_type": "code",
        "colab": {}
      },
      "source": [
        "from nltk.tokenize.treebank import TreebankWordTokenizer\n",
        "treebank_tokenizer = TreebankWordTokenizer()\n",
        "def handle_contractions(x):\n",
        "    x = treebank_tokenizer.tokenize(x)\n",
        "    return x\n"
      ],
      "execution_count": 0,
      "outputs": []
    },
    {
      "cell_type": "code",
      "metadata": {
        "id": "XGXj23skwkWa",
        "colab_type": "code",
        "colab": {
          "base_uri": "https://localhost:8080/",
          "height": 66,
          "referenced_widgets": [
            "37c4c9806f1f44ecba4b5f9a4a21a8d4",
            "a7aed643c9584b299c4d8e8a212a75f9",
            "cf43120c0c664cb3883f9835fda515c6",
            "dd0fe45d702f45b1a9dc5b74f95b38ce",
            "257e8c4bda2945f694bc1fa998f8959d",
            "5017b8281f7c447aad16ae2975fc2369",
            "6d00a8404cd04ae78fdba6970327519a",
            "ab199281189746268478f7fe327f270a"
          ]
        },
        "outputId": "de43a20c-4bd6-4d19-e6be-34d73f864c9d"
      },
      "source": [
        "mini_train['comment_text'] = mini_train['comment_text'].progress_apply( lambda x: handle_contractions(x))"
      ],
      "execution_count": 38,
      "outputs": [
        {
          "output_type": "display_data",
          "data": {
            "application/vnd.jupyter.widget-view+json": {
              "model_id": "37c4c9806f1f44ecba4b5f9a4a21a8d4",
              "version_minor": 0,
              "version_major": 2
            },
            "text/plain": [
              "HBox(children=(FloatProgress(value=0.0, max=50000.0), HTML(value='')))"
            ]
          },
          "metadata": {
            "tags": []
          }
        },
        {
          "output_type": "stream",
          "text": [
            "\n"
          ],
          "name": "stdout"
        }
      ]
    },
    {
      "cell_type": "code",
      "metadata": {
        "id": "xtxt0Xf_xS75",
        "colab_type": "code",
        "colab": {
          "base_uri": "https://localhost:8080/",
          "height": 884
        },
        "outputId": "b2890f5e-9cb2-431a-aed7-920f7f4f58ee"
      },
      "source": [
        "mini_train['comment_text'][0]"
      ],
      "execution_count": 39,
      "outputs": [
        {
          "output_type": "execute_result",
          "data": {
            "text/plain": [
              "['The',\n",
              " 'cause',\n",
              " 'of',\n",
              " 'the',\n",
              " 'Ashcroft',\n",
              " 'Reserve',\n",
              " 'fire',\n",
              " 'is',\n",
              " 'under',\n",
              " 'investigation',\n",
              " '.',\n",
              " 'There',\n",
              " 'are',\n",
              " 'myriad',\n",
              " 'rumours',\n",
              " 'and',\n",
              " 'speculation',\n",
              " 'as',\n",
              " 'to',\n",
              " 'the',\n",
              " 'cause',\n",
              " ';',\n",
              " 'I',\n",
              " 'should',\n",
              " 'know',\n",
              " ',',\n",
              " 'I',\n",
              " 'live',\n",
              " 'in',\n",
              " 'Ashcroft',\n",
              " 'and',\n",
              " 'am',\n",
              " 'the',\n",
              " 'editor',\n",
              " 'of',\n",
              " 'the',\n",
              " 'local',\n",
              " 'paper',\n",
              " '.',\n",
              " 'Let',\n",
              " \"'s\",\n",
              " 'give',\n",
              " 'the',\n",
              " 'investigators',\n",
              " 'a',\n",
              " 'chance',\n",
              " 'to',\n",
              " 'sort',\n",
              " 'things',\n",
              " 'out',\n",
              " '.']"
            ]
          },
          "metadata": {
            "tags": []
          },
          "execution_count": 39
        }
      ]
    },
    {
      "cell_type": "markdown",
      "metadata": {
        "id": "kNjo82Pmxatl",
        "colab_type": "text"
      },
      "source": [
        "#### Remove apostrophe symbol at the begining of a token"
      ]
    },
    {
      "cell_type": "code",
      "metadata": {
        "id": "I9yJX0juyl7u",
        "colab_type": "code",
        "colab": {}
      },
      "source": [
        "def fix_quote(x):\n",
        "    x = [x_[1:] if x_.startswith(\"'\") else x_ for x_ in x]\n",
        "    x = ' '.join(x)\n",
        "    return x"
      ],
      "execution_count": 0,
      "outputs": []
    },
    {
      "cell_type": "code",
      "metadata": {
        "id": "GDgINJ-dym7l",
        "colab_type": "code",
        "colab": {
          "base_uri": "https://localhost:8080/",
          "height": 66,
          "referenced_widgets": [
            "f874d30acd61489aa1aa7ae08ea71f66",
            "b36cb751c02041589627ffcdb5a97872",
            "e978e03ba1444719bfdc44b09f40b8ef",
            "10d1773a6a404bff8e856918786782e0",
            "bcb0a6cecda5480b8235294c9ca60b26",
            "eed86c6ec7bb4a4b8175ca548b394c2c",
            "7740e30a9f184b50976dc55f56c5ae0f",
            "033d165c52a04ce1a9d2a28d8018dde7"
          ]
        },
        "outputId": "4e198570-3b55-45b0-e6b0-65c5b5a97e69"
      },
      "source": [
        "mini_train['comment_text'] = mini_train['comment_text'].progress_apply( lambda x: fix_quote(x))"
      ],
      "execution_count": 42,
      "outputs": [
        {
          "output_type": "display_data",
          "data": {
            "application/vnd.jupyter.widget-view+json": {
              "model_id": "f874d30acd61489aa1aa7ae08ea71f66",
              "version_minor": 0,
              "version_major": 2
            },
            "text/plain": [
              "HBox(children=(FloatProgress(value=0.0, max=50000.0), HTML(value='')))"
            ]
          },
          "metadata": {
            "tags": []
          }
        },
        {
          "output_type": "stream",
          "text": [
            "\n"
          ],
          "name": "stdout"
        }
      ]
    },
    {
      "cell_type": "code",
      "metadata": {
        "id": "2lLvrMJ4yyxn",
        "colab_type": "code",
        "colab": {
          "base_uri": "https://localhost:8080/",
          "height": 54
        },
        "outputId": "cacee786-79a4-4d83-bb0b-9d3ddf140def"
      },
      "source": [
        "mini_train['comment_text'][0]"
      ],
      "execution_count": 43,
      "outputs": [
        {
          "output_type": "execute_result",
          "data": {
            "text/plain": [
              "'The cause of the Ashcroft Reserve fire is under investigation . There are myriad rumours and speculation as to the cause ; I should know , I live in Ashcroft and am the editor of the local paper . Let s give the investigators a chance to sort things out .'"
            ]
          },
          "metadata": {
            "tags": []
          },
          "execution_count": 43
        }
      ]
    },
    {
      "cell_type": "code",
      "metadata": {
        "id": "BCj_kTQcy37i",
        "colab_type": "code",
        "colab": {}
      },
      "source": [
        "# the entire cleaning process\n",
        "def preprocess(x):\n",
        "    x = handle_punctuation(x)\n",
        "    x = handle_contractions(x)\n",
        "    x = fix_quote(x)\n",
        "    return x"
      ],
      "execution_count": 0,
      "outputs": []
    },
    {
      "cell_type": "markdown",
      "metadata": {
        "id": "2YQTc5W4zAaf",
        "colab_type": "text"
      },
      "source": [
        "#### Tokenizing, Embedding Matrix"
      ]
    },
    {
      "cell_type": "markdown",
      "metadata": {
        "id": "DAnD1I5Nzw_Y",
        "colab_type": "text"
      },
      "source": [
        "I will use the Keras Tokenizer which will allow us to vectorize of corpus.\n"
      ]
    },
    {
      "cell_type": "code",
      "metadata": {
        "id": "rSV7WvbYzpQb",
        "colab_type": "code",
        "colab": {}
      },
      "source": [
        "from keras.preprocessing.text import Tokenizer\n",
        "MAX_FEATURES = 50000\n",
        "tokenizer = Tokenizer(num_words=50000, filters='',lower=False)\n",
        "tokenizer.fit_on_texts(list(mini_train['comment_text']))"
      ],
      "execution_count": 0,
      "outputs": []
    },
    {
      "cell_type": "markdown",
      "metadata": {
        "id": "g-ey_7YJ60TK",
        "colab_type": "text"
      },
      "source": [
        "The tokenizer will create the corpus' vocabulary and the mapping between indexes and word token.\n",
        "Once we have the tokenizer, we can create our embeddings matrix. The embeddings matrix is the mapping between the word indexes and embeddings vectors. While building the embedding matrix tokens that do not have embeddings will be mapped to vectors of zeros."
      ]
    },
    {
      "cell_type": "code",
      "metadata": {
        "id": "K-ykdpNq6v9G",
        "colab_type": "code",
        "colab": {
          "base_uri": "https://localhost:8080/",
          "height": 51
        },
        "outputId": "1651378d-0477-4dd9-e3fc-59ef679fe504"
      },
      "source": [
        "# download and load the embeddings\n",
        "!unzip /content/drive/My\\ Drive/jsaw/glove.840B.300d.zip\n",
        "from gensim.test.utils import datapath, get_tmpfile\n",
        "from gensim.models import KeyedVectors\n",
        "from gensim.scripts.glove2word2vec import glove2word2vec\n",
        "glove_file = datapath('/content/glove.840B.300d.txt')\n",
        "word2vec_glove_file = get_tmpfile(\"glove.840B.300d.word2vec.txt\")\n",
        "glove2word2vec(glove_file, word2vec_glove_file)\n",
        "glove_model = KeyedVectors.load_word2vec_format(word2vec_glove_file)\n"
      ],
      "execution_count": 83,
      "outputs": [
        {
          "output_type": "stream",
          "text": [
            "Archive:  /content/drive/My Drive/jsaw/glove.840B.300d.zip\n",
            "  inflating: glove.840B.300d.txt     \n"
          ],
          "name": "stdout"
        }
      ]
    },
    {
      "cell_type": "code",
      "metadata": {
        "id": "DD2RiYrx-X8a",
        "colab_type": "code",
        "colab": {}
      },
      "source": [
        "MAX_FEATURES = min(MAX_FEATURES, len(tokenizer.word_index))\n",
        "\n",
        "def build_matrix(word_index, glove_model, max_features=MAX_FEATURES):\n",
        "    embedding_matrix = np.zeros((max_features + 1, 300))\n",
        "    unknown_words = []\n",
        "    \n",
        "    for word, i in word_index.items():\n",
        "        if i <= max_features:\n",
        "            try:\n",
        "                embedding_matrix[i] = glove_model[word]\n",
        "            except KeyError:\n",
        "                try:\n",
        "                    embedding_matrix[i] = glove_model[word.lower()]\n",
        "                except KeyError:\n",
        "                    try:\n",
        "                        embedding_matrix[i] = glove_model[word.title()]\n",
        "                    except KeyError:\n",
        "                        unknown_words.append(word)\n",
        "    return embedding_matrix, unknown_words\n",
        "\n",
        "  "
      ],
      "execution_count": 0,
      "outputs": []
    },
    {
      "cell_type": "code",
      "metadata": {
        "id": "EiW3Gmcj-eVj",
        "colab_type": "code",
        "colab": {}
      },
      "source": [
        "embedding_matrix, _ = build_matrix(tokenizer.word_index, glove_model)"
      ],
      "execution_count": 0,
      "outputs": []
    },
    {
      "cell_type": "markdown",
      "metadata": {
        "id": "xud9vYDS8XKn",
        "colab_type": "text"
      },
      "source": [
        "#### Word indexing and paddings"
      ]
    },
    {
      "cell_type": "markdown",
      "metadata": {
        "id": "aoQiJcLN8bYo",
        "colab_type": "text"
      },
      "source": [
        "Now that we have indexed the corpus' vocabulary, we are ready to index the entire corpus. This will be helpful because we already have the mapping between indexes and word vectors in the embeddings matrix that we will use during training."
      ]
    },
    {
      "cell_type": "code",
      "metadata": {
        "id": "MDFraMJq8zzF",
        "colab_type": "code",
        "colab": {}
      },
      "source": [
        "# Split the data into training and validation\n",
        "mask = np.random.rand(len(mini_train)) < 0.9\n",
        "train_data = mini_train[mask]\n",
        "test = mini_train[~mask]\n",
        "\n",
        "x_train = train_data['comment_text']\n",
        "y_train = np.where(train_data['target'] >=0.5, 1, 0)\n",
        "x_test = test['comment_text']\n",
        "y_test = np.where(test['target'] >= 0.5, 1, 0)\n",
        "\n",
        "\n",
        "y_aux_train = train_data[['target', 'severe_toxicity', 'obscene', 'identity_attack', 'insult', 'threat']]\n",
        "y_aux_test = test[['target', 'severe_toxicity', 'obscene', 'identity_attack', 'insult', 'threat']]"
      ],
      "execution_count": 0,
      "outputs": []
    },
    {
      "cell_type": "code",
      "metadata": {
        "id": "PKJxTjmy9U7x",
        "colab_type": "code",
        "colab": {}
      },
      "source": [
        "# word indexing: transform text token into sequence of indexes.\n",
        "x_train = tokenizer.texts_to_sequences(x_train)\n",
        "x_test = tokenizer.texts_to_sequences(x_test)"
      ],
      "execution_count": 0,
      "outputs": []
    },
    {
      "cell_type": "code",
      "metadata": {
        "id": "mClq0TwOBHfI",
        "colab_type": "code",
        "colab": {
          "base_uri": "https://localhost:8080/",
          "height": 884
        },
        "outputId": "8e14c9e4-83c2-4eda-8d44-8e2f5a7e2188"
      },
      "source": [
        "x_train[0]"
      ],
      "execution_count": 103,
      "outputs": [
        {
          "output_type": "execute_result",
          "data": {
            "text/plain": [
              "[31,\n",
              " 583,\n",
              " 6,\n",
              " 2,\n",
              " 21916,\n",
              " 7876,\n",
              " 698,\n",
              " 8,\n",
              " 242,\n",
              " 917,\n",
              " 1,\n",
              " 149,\n",
              " 19,\n",
              " 8938,\n",
              " 16315,\n",
              " 5,\n",
              " 3598,\n",
              " 27,\n",
              " 4,\n",
              " 2,\n",
              " 583,\n",
              " 157,\n",
              " 13,\n",
              " 71,\n",
              " 91,\n",
              " 3,\n",
              " 13,\n",
              " 277,\n",
              " 9,\n",
              " 21916,\n",
              " 5,\n",
              " 179,\n",
              " 2,\n",
              " 4695,\n",
              " 6,\n",
              " 2,\n",
              " 478,\n",
              " 1219,\n",
              " 1,\n",
              " 464,\n",
              " 18,\n",
              " 270,\n",
              " 2,\n",
              " 6257,\n",
              " 7,\n",
              " 772,\n",
              " 4,\n",
              " 1064,\n",
              " 205,\n",
              " 64,\n",
              " 1]"
            ]
          },
          "metadata": {
            "tags": []
          },
          "execution_count": 103
        }
      ]
    },
    {
      "cell_type": "code",
      "metadata": {
        "id": "q_A2ZV4MB2jC",
        "colab_type": "code",
        "colab": {}
      },
      "source": [
        "# truncate or pad sequences to have the same length\n",
        "MAX_LEN=100\n",
        "x_train = sequence.pad_sequences(x_train, maxlen=MAX_LEN)\n",
        "x_test = sequence.pad_sequences(x_test, maxlen=MAX_LEN)"
      ],
      "execution_count": 0,
      "outputs": []
    },
    {
      "cell_type": "markdown",
      "metadata": {
        "id": "61NQKrIW9fTQ",
        "colab_type": "text"
      },
      "source": [
        "### Build the model"
      ]
    },
    {
      "cell_type": "markdown",
      "metadata": {
        "id": "cjOTX2J79jGZ",
        "colab_type": "text"
      },
      "source": [
        "I will use a simple two layer Bidirectional LSTM model."
      ]
    },
    {
      "cell_type": "code",
      "metadata": {
        "id": "2aGmn4LWPdDh",
        "colab_type": "code",
        "colab": {}
      },
      "source": [
        "class SpatialDropout(nn.Dropout2d):\n",
        "  def forward(self, x):\n",
        "    x = x.unsqueeze(2)    # (N, T, 1, K)\n",
        "    x = x.permute(0, 3, 2, 1)  # (N, K, 1, T)\n",
        "    x = super(SpatialDropout, self).forward(x)  # (N, K, 1, T), some features are masked\n",
        "    x = x.permute(0, 3, 2, 1)  # (N, T, 1, K)\n",
        "    x = x.squeeze(2)  # (N, T, K)\n",
        "    return x"
      ],
      "execution_count": 0,
      "outputs": []
    },
    {
      "cell_type": "code",
      "metadata": {
        "id": "4zhffsNdP12I",
        "colab_type": "code",
        "colab": {}
      },
      "source": [
        "class NeuralNet(nn.Module):\n",
        "  def __init__(self, embedding_matrix, num_aux_targets):\n",
        "    super(NeuralNet, self).__init__()\n",
        "    embed_size = embedding_matrix.shape[1]\n",
        "    self.embedding = nn.Embedding(max_features, embed_size)\n",
        "    self.embedding.weight = nn.Parameter(torch.tensor(embedding_matrix, dtype=torch.float32))\n",
        "    self.embedding.weight.requires_grad = False\n",
        "    self.embedding_dropout = SpatialDropout(0.3)\n",
        "    self.lstm1 = nn.LSTM(embed_size, LSTM_UNITS, bidirectional=True, batch_first=True)\n",
        "    self.lstm2 = nn.LSTM(LSTM_UNITS * 2, LSTM_UNITS, bidirectional=True, batch_first=True)\n",
        "    self.linear1 = nn.Linear(DENSE_HIDDEN_UNITS, DENSE_HIDDEN_UNITS)\n",
        "    self.linear2 = nn.Linear(DENSE_HIDDEN_UNITS, DENSE_HIDDEN_UNITS)\n",
        "\n",
        "    self.linear_out = nn.Linear(DENSE_HIDDEN_UNITS, 1)\n",
        "    self.linear_aux_out = nn.Linear(DENSE_HIDDEN_UNITS, num_aux_targets)\n",
        "\n",
        "  def forward(self, x):\n",
        "    h_embedding = self.embedding(x)\n",
        "    h_embedding = self.embedding_dropout(h_embedding)\n",
        "\n",
        "    h_lstm1, _ = self.lstm1(h_embedding)\n",
        "    h_lstm2, _ = self.lstm2(h_lstm1)\n",
        "\n",
        "    # global average pooling\n",
        "    avg_pool = torch.mean(h_lstm2, 1)\n",
        "    # global max pooling\n",
        "    max_pool, _ = torch.max(h_lstm2, 1)\n",
        "\n",
        "    h_conc = torch.cat((max_pool, avg_pool), 1)\n",
        "    h_conc_linear1  = F.relu(self.linear1(h_conc))\n",
        "    h_conc_linear2  = F.relu(self.linear2(h_conc))\n",
        "\n",
        "    hidden = h_conc + h_conc_linear1 + h_conc_linear2\n",
        "    result = self.linear_out(hidden)\n",
        "    aux_result = self.linear_aux_out(hidden)\n",
        "    out = torch.cat([result, aux_result], 1)\n",
        "        \n",
        "    return out"
      ],
      "execution_count": 0,
      "outputs": []
    },
    {
      "cell_type": "code",
      "metadata": {
        "id": "I6oWTvYLQNxJ",
        "colab_type": "code",
        "colab": {}
      },
      "source": [
        "# Turn the data into torch tensor\n",
        "x_train_torch = torch.tensor(x_train, dtype=torch.long).cuda()\n",
        "x_test_torch = torch.tensor(x_test, dtype=torch.long).cuda()\n",
        "y_train_torch = torch.tensor(np.hstack([y_train[:, np.newaxis], y_aux_train]), dtype=torch.float32).cuda()\n",
        "y_test_torch = torch.tensor(np.hstack([y_test[:, np.newaxis], y_aux_test]), dtype=torch.float32).cuda()\n"
      ],
      "execution_count": 0,
      "outputs": []
    },
    {
      "cell_type": "code",
      "metadata": {
        "id": "LX1spNfFRNL5",
        "colab_type": "code",
        "outputId": "04acf70f-4c13-4a5f-f1f1-3edb0977d421",
        "colab": {
          "base_uri": "https://localhost:8080/",
          "height": 187
        }
      },
      "source": [
        "max_features = len(tokenizer.word_index) + 1\n",
        "LSTM_UNITS = 128\n",
        "DENSE_HIDDEN_UNITS = 4 * LSTM_UNITS\n",
        "MAX_LEN = 100\n",
        "model = NeuralNet(embedding_matrix, y_aux_train.shape[-1])\n",
        "model.cuda()"
      ],
      "execution_count": 108,
      "outputs": [
        {
          "output_type": "execute_result",
          "data": {
            "text/plain": [
              "NeuralNet(\n",
              "  (embedding): Embedding(74836, 300)\n",
              "  (embedding_dropout): SpatialDropout(p=0.3, inplace=False)\n",
              "  (lstm1): LSTM(300, 128, batch_first=True, bidirectional=True)\n",
              "  (lstm2): LSTM(256, 128, batch_first=True, bidirectional=True)\n",
              "  (linear1): Linear(in_features=512, out_features=512, bias=True)\n",
              "  (linear2): Linear(in_features=512, out_features=512, bias=True)\n",
              "  (linear_out): Linear(in_features=512, out_features=1, bias=True)\n",
              "  (linear_aux_out): Linear(in_features=512, out_features=6, bias=True)\n",
              ")"
            ]
          },
          "metadata": {
            "tags": []
          },
          "execution_count": 108
        }
      ]
    },
    {
      "cell_type": "markdown",
      "metadata": {
        "id": "8SKWxfbqSwto",
        "colab_type": "text"
      },
      "source": [
        "### Train the model"
      ]
    },
    {
      "cell_type": "code",
      "metadata": {
        "id": "uQvoL52OSypo",
        "colab_type": "code",
        "colab": {}
      },
      "source": [
        "def train_model(model, train, test, loss_fn, output_dim, lr=0.001, batch_size=512, n_epochs=10,\n",
        "                enable_checkpoint_ensemble=False):\n",
        "  param_lrs = [{'params': param, 'lr': lr} for param in model.parameters()]\n",
        "  optimizer = torch.optim.Adam(param_lrs, lr=lr)\n",
        "  scheduler = torch.optim.lr_scheduler.LambdaLR(optimizer, lambda epoch: 0.6 ** epoch)\n",
        "  train_loader = torch.utils.data.DataLoader(train, batch_size=batch_size, shuffle=True)\n",
        "  test_loader = torch.utils.data.DataLoader(test, batch_size=batch_size, shuffle=False)\n",
        "  training_loss = []\n",
        "  validation_loss = []\n",
        "  avg_val_loss = 0\n",
        "  best_loss = float(\"inf\")\n",
        "  checkpoint_weights = [2 ** epoch for epoch in range(n_epochs)]\n",
        "  for epoch in range(n_epochs):\n",
        "    start_time = time.time()\n",
        "\n",
        "    scheduler.step()\n",
        "    model.train()\n",
        "    avg_loss = 0\n",
        "\n",
        "    for data in tqdm(train_loader, disable=False):\n",
        "      x_batch = data[:-1]\n",
        "      y_batch = data[-1]\n",
        "      y_pred = model(*x_batch)\n",
        "      loss = loss_fn(y_pred, y_batch)\n",
        "      optimizer.zero_grad()\n",
        "      loss.backward()\n",
        "      optimizer.step()\n",
        "      avg_loss += loss.item() / len(train_loader)\n",
        "    training_loss.append(avg_loss)\n",
        "    model.eval()\n",
        "    test_preds = np.zeros((len(test), output_dim))\n",
        "\n",
        "    avg_val_loss = 0\n",
        "    for i, val_data in enumerate(test_loader):\n",
        "      x_batch = val_data[:-1]\n",
        "      y_batch = val_data[-1]\n",
        "      y_pred = model(*x_batch)\n",
        "      val_loss = loss_fn(y_pred, y_batch)\n",
        "      avg_val_loss += val_loss.item() / len(test_loader)\n",
        "      #y_pred = sigmoid(model(*x_batch).detach().cpu().numpy())\n",
        "\n",
        "    elapsed_time = time.time() - start_time\n",
        "    validation_loss.append(avg_val_loss)\n",
        "    if avg_val_loss < best_loss:\n",
        "      print('saving the best model so far')\n",
        "      state_dict_path = f'/content/state_dict_best_model.pt'\n",
        "      torch.save(model.state_dict(), state_dict_path)\n",
        "      best_loss = avg_val_loss\n",
        "    print(f'Epoch {epoch + 1}/{n_epochs}\\t training_loss={avg_loss:.4f} \\t validation_loss={avg_val_loss: 4f} \\t time={elapsed_time:.2f}s')\n",
        "        \n",
        "  return training_loss, validation_loss"
      ],
      "execution_count": 0,
      "outputs": []
    },
    {
      "cell_type": "code",
      "metadata": {
        "id": "VHqczFKbTBsM",
        "colab_type": "code",
        "outputId": "0b3cc894-11f0-4bf4-fdb8-dbf35e7fae3c",
        "colab": {
          "base_uri": "https://localhost:8080/",
          "height": 1000
        }
      },
      "source": [
        "train_dataset = data.TensorDataset(x_train_torch, y_train_torch)\n",
        "test_dataset = data.TensorDataset(x_test_torch, y_test_torch)\n",
        "training_loss, validation_loss = train_model(model, train_dataset, test_dataset, output_dim=y_train_torch.shape[-1], n_epochs=20, loss_fn=nn.BCEWithLogitsLoss(reduction='mean'))"
      ],
      "execution_count": 110,
      "outputs": [
        {
          "output_type": "stream",
          "text": [
            "100%|██████████| 88/88 [00:18<00:00,  4.67it/s]\n",
            "  0%|          | 0/88 [00:00<?, ?it/s]"
          ],
          "name": "stderr"
        },
        {
          "output_type": "stream",
          "text": [
            "saving the best model so far\n",
            "Epoch 1/20\t training_loss=0.2004 \t validation_loss= 0.148868 \t time=19.48s\n"
          ],
          "name": "stdout"
        },
        {
          "output_type": "stream",
          "text": [
            "100%|██████████| 88/88 [00:18<00:00,  4.78it/s]\n",
            "  0%|          | 0/88 [00:00<?, ?it/s]"
          ],
          "name": "stderr"
        },
        {
          "output_type": "stream",
          "text": [
            "saving the best model so far\n",
            "Epoch 2/20\t training_loss=0.1390 \t validation_loss= 0.126095 \t time=19.03s\n"
          ],
          "name": "stdout"
        },
        {
          "output_type": "stream",
          "text": [
            "100%|██████████| 88/88 [00:18<00:00,  4.77it/s]\n",
            "  0%|          | 0/88 [00:00<?, ?it/s]"
          ],
          "name": "stderr"
        },
        {
          "output_type": "stream",
          "text": [
            "saving the best model so far\n",
            "Epoch 3/20\t training_loss=0.1293 \t validation_loss= 0.122139 \t time=19.07s\n"
          ],
          "name": "stdout"
        },
        {
          "output_type": "stream",
          "text": [
            "100%|██████████| 88/88 [00:18<00:00,  4.81it/s]\n",
            "  0%|          | 0/88 [00:00<?, ?it/s]"
          ],
          "name": "stderr"
        },
        {
          "output_type": "stream",
          "text": [
            "saving the best model so far\n",
            "Epoch 4/20\t training_loss=0.1264 \t validation_loss= 0.120551 \t time=18.92s\n"
          ],
          "name": "stdout"
        },
        {
          "output_type": "stream",
          "text": [
            "100%|██████████| 88/88 [00:18<00:00,  4.80it/s]\n",
            "  0%|          | 0/88 [00:00<?, ?it/s]"
          ],
          "name": "stderr"
        },
        {
          "output_type": "stream",
          "text": [
            "saving the best model so far\n",
            "Epoch 5/20\t training_loss=0.1256 \t validation_loss= 0.119801 \t time=18.96s\n"
          ],
          "name": "stdout"
        },
        {
          "output_type": "stream",
          "text": [
            "100%|██████████| 88/88 [00:18<00:00,  4.80it/s]\n",
            "  0%|          | 0/88 [00:00<?, ?it/s]"
          ],
          "name": "stderr"
        },
        {
          "output_type": "stream",
          "text": [
            "saving the best model so far\n",
            "Epoch 6/20\t training_loss=0.1247 \t validation_loss= 0.119401 \t time=18.96s\n"
          ],
          "name": "stdout"
        },
        {
          "output_type": "stream",
          "text": [
            "100%|██████████| 88/88 [00:18<00:00,  4.81it/s]\n",
            "  0%|          | 0/88 [00:00<?, ?it/s]"
          ],
          "name": "stderr"
        },
        {
          "output_type": "stream",
          "text": [
            "saving the best model so far\n",
            "Epoch 7/20\t training_loss=0.1245 \t validation_loss= 0.119172 \t time=18.93s\n"
          ],
          "name": "stdout"
        },
        {
          "output_type": "stream",
          "text": [
            "100%|██████████| 88/88 [00:18<00:00,  4.79it/s]\n",
            "  0%|          | 0/88 [00:00<?, ?it/s]"
          ],
          "name": "stderr"
        },
        {
          "output_type": "stream",
          "text": [
            "saving the best model so far\n",
            "Epoch 8/20\t training_loss=0.1241 \t validation_loss= 0.119028 \t time=19.02s\n"
          ],
          "name": "stdout"
        },
        {
          "output_type": "stream",
          "text": [
            "100%|██████████| 88/88 [00:18<00:00,  4.82it/s]\n",
            "  0%|          | 0/88 [00:00<?, ?it/s]"
          ],
          "name": "stderr"
        },
        {
          "output_type": "stream",
          "text": [
            "saving the best model so far\n",
            "Epoch 9/20\t training_loss=0.1240 \t validation_loss= 0.118925 \t time=18.90s\n"
          ],
          "name": "stdout"
        },
        {
          "output_type": "stream",
          "text": [
            "100%|██████████| 88/88 [00:18<00:00,  4.81it/s]\n",
            "  0%|          | 0/88 [00:00<?, ?it/s]"
          ],
          "name": "stderr"
        },
        {
          "output_type": "stream",
          "text": [
            "saving the best model so far\n",
            "Epoch 10/20\t training_loss=0.1241 \t validation_loss= 0.118856 \t time=18.93s\n"
          ],
          "name": "stdout"
        },
        {
          "output_type": "stream",
          "text": [
            "100%|██████████| 88/88 [00:18<00:00,  4.80it/s]\n",
            "  0%|          | 0/88 [00:00<?, ?it/s]"
          ],
          "name": "stderr"
        },
        {
          "output_type": "stream",
          "text": [
            "saving the best model so far\n",
            "Epoch 11/20\t training_loss=0.1240 \t validation_loss= 0.118841 \t time=18.96s\n"
          ],
          "name": "stdout"
        },
        {
          "output_type": "stream",
          "text": [
            "100%|██████████| 88/88 [00:18<00:00,  4.80it/s]\n",
            "  0%|          | 0/88 [00:00<?, ?it/s]"
          ],
          "name": "stderr"
        },
        {
          "output_type": "stream",
          "text": [
            "saving the best model so far\n",
            "Epoch 12/20\t training_loss=0.1239 \t validation_loss= 0.118811 \t time=18.96s\n"
          ],
          "name": "stdout"
        },
        {
          "output_type": "stream",
          "text": [
            "100%|██████████| 88/88 [00:18<00:00,  4.77it/s]\n",
            "  0%|          | 0/88 [00:00<?, ?it/s]"
          ],
          "name": "stderr"
        },
        {
          "output_type": "stream",
          "text": [
            "Epoch 13/20\t training_loss=0.1240 \t validation_loss= 0.118816 \t time=19.09s\n"
          ],
          "name": "stdout"
        },
        {
          "output_type": "stream",
          "text": [
            "100%|██████████| 88/88 [00:18<00:00,  4.82it/s]\n",
            "  0%|          | 0/88 [00:00<?, ?it/s]"
          ],
          "name": "stderr"
        },
        {
          "output_type": "stream",
          "text": [
            "saving the best model so far\n",
            "Epoch 14/20\t training_loss=0.1238 \t validation_loss= 0.118807 \t time=18.91s\n"
          ],
          "name": "stdout"
        },
        {
          "output_type": "stream",
          "text": [
            "100%|██████████| 88/88 [00:18<00:00,  4.81it/s]\n",
            "  0%|          | 0/88 [00:00<?, ?it/s]"
          ],
          "name": "stderr"
        },
        {
          "output_type": "stream",
          "text": [
            "saving the best model so far\n",
            "Epoch 15/20\t training_loss=0.1242 \t validation_loss= 0.118805 \t time=18.92s\n"
          ],
          "name": "stdout"
        },
        {
          "output_type": "stream",
          "text": [
            "100%|██████████| 88/88 [00:18<00:00,  4.82it/s]\n",
            "  0%|          | 0/88 [00:00<?, ?it/s]"
          ],
          "name": "stderr"
        },
        {
          "output_type": "stream",
          "text": [
            "saving the best model so far\n",
            "Epoch 16/20\t training_loss=0.1240 \t validation_loss= 0.118801 \t time=18.91s\n"
          ],
          "name": "stdout"
        },
        {
          "output_type": "stream",
          "text": [
            "100%|██████████| 88/88 [00:18<00:00,  4.83it/s]\n",
            "  0%|          | 0/88 [00:00<?, ?it/s]"
          ],
          "name": "stderr"
        },
        {
          "output_type": "stream",
          "text": [
            "saving the best model so far\n",
            "Epoch 17/20\t training_loss=0.1238 \t validation_loss= 0.118798 \t time=18.84s\n"
          ],
          "name": "stdout"
        },
        {
          "output_type": "stream",
          "text": [
            "100%|██████████| 88/88 [00:18<00:00,  4.79it/s]\n",
            "  0%|          | 0/88 [00:00<?, ?it/s]"
          ],
          "name": "stderr"
        },
        {
          "output_type": "stream",
          "text": [
            "Epoch 18/20\t training_loss=0.1238 \t validation_loss= 0.118799 \t time=18.99s\n"
          ],
          "name": "stdout"
        },
        {
          "output_type": "stream",
          "text": [
            "100%|██████████| 88/88 [00:18<00:00,  4.85it/s]\n",
            "  0%|          | 0/88 [00:00<?, ?it/s]"
          ],
          "name": "stderr"
        },
        {
          "output_type": "stream",
          "text": [
            "saving the best model so far\n",
            "Epoch 19/20\t training_loss=0.1240 \t validation_loss= 0.118797 \t time=18.80s\n"
          ],
          "name": "stdout"
        },
        {
          "output_type": "stream",
          "text": [
            "100%|██████████| 88/88 [00:18<00:00,  4.83it/s]\n"
          ],
          "name": "stderr"
        },
        {
          "output_type": "stream",
          "text": [
            "saving the best model so far\n",
            "Epoch 20/20\t training_loss=0.1238 \t validation_loss= 0.118797 \t time=18.85s\n"
          ],
          "name": "stdout"
        }
      ]
    },
    {
      "cell_type": "code",
      "metadata": {
        "id": "MMmpqfeMV076",
        "colab_type": "code",
        "outputId": "e3114f9c-4ab0-4cc9-d25b-6f85dde419db",
        "colab": {
          "base_uri": "https://localhost:8080/",
          "height": 399
        }
      },
      "source": [
        "epochs = range(1, 21)\n",
        "import matplotlib.pyplot as plt\n",
        "plt.figure(figsize=(20,10))\n",
        "plt.plot(epochs, training_loss, 'r-')\n",
        "plt.plot(epochs, validation_loss, 'b-')\n",
        "plt.legend(['Training Loss', 'validation Loss'])\n",
        "plt.xlabel('Epoch')\n",
        "plt.ylabel('Loss')\n",
        "plt.show();"
      ],
      "execution_count": 111,
      "outputs": [
        {
          "output_type": "display_data",
          "data": {
            "image/png": "[encoded data removed]",
            "text/plain": [
              "<Figure size 1440x720 with 1 Axes>"
            ]
          },
          "metadata": {
            "tags": [],
            "needs_background": "light"
          }
        }
      ]
    },
    {
      "cell_type": "markdown",
      "metadata": {
        "id": "yis7WZ30XbK0",
        "colab_type": "text"
      },
      "source": [
        ""
      ]
    },
    {
      "cell_type": "markdown",
      "metadata": {
        "id": "eUlGAfblXWy7",
        "colab_type": "text"
      },
      "source": [
        "### Package the model using MLFLOW"
      ]
    },
    {
      "cell_type": "markdown",
      "metadata": {
        "id": "jEuWivuIIp39",
        "colab_type": "text"
      },
      "source": [
        "Now that we have trained and validated the model, it's time to package it. We will need to do the following:\n",
        "1. Serialize the tokenizer, the embeddings matrix, the model's weights.\n",
        "2. Define the dictionary artifact that contains the file path of the serialized objects.\n",
        "3. Define the Conda environment with all the dependencies.\n",
        "4. Define the PythonModel class, which includes the 'predict' function logic."
      ]
    },
    {
      "cell_type": "code",
      "metadata": {
        "id": "lYTdQXkbaDsQ",
        "colab_type": "code",
        "colab": {}
      },
      "source": [
        "# install mlflow\n",
        "%%capture\n",
        "!pip install mlflow"
      ],
      "execution_count": 0,
      "outputs": []
    },
    {
      "cell_type": "code",
      "metadata": {
        "id": "rWHKuJKZZ66N",
        "colab_type": "code",
        "colab": {}
      },
      "source": [
        "#useful import\n",
        "import mlflow\n",
        "import mlflow.pyfunc\n",
        "import keras\n",
        "import tensorflow\n",
        "import nltk"
      ],
      "execution_count": 0,
      "outputs": []
    },
    {
      "cell_type": "code",
      "metadata": {
        "id": "RVO8_wZjXKC4",
        "colab_type": "code",
        "colab": {}
      },
      "source": [
        "# serialize both the tokenizer and the embeddings to be included in our package\n",
        "import pickle\n",
        "tokenizer_path = f'/content/tokenizer.pkl'\n",
        "embeddings_path = f'/content/embeddings.pkl'\n",
        "\n",
        "with open(tokenizer_path, 'wb') as handle:\n",
        "    pickle.dump(tokenizer, handle, protocol=pickle.HIGHEST_PROTOCOL)\n",
        "\n",
        "with open(embeddings_path, 'wb') as handle:\n",
        "    pickle.dump(embedding_matrix, handle, protocol=pickle.HIGHEST_PROTOCOL)"
      ],
      "execution_count": 0,
      "outputs": []
    },
    {
      "cell_type": "markdown",
      "metadata": {
        "id": "xFCjuzmcZDAK",
        "colab_type": "text"
      },
      "source": [
        "### Define the artifacts"
      ]
    },
    {
      "cell_type": "code",
      "metadata": {
        "id": "7DO8t81WYt47",
        "colab_type": "code",
        "colab": {}
      },
      "source": [
        "# prepare the artifacts\n",
        "state_dict_path = f'/content/state_dict_best_model.pt'\n",
        "artifacts = {\n",
        "    \"state_dict_model\": state_dict_path,\n",
        "    \"embeddings\": embeddings_path,\n",
        "    \"tokenizer\": tokenizer_path,\n",
        "}"
      ],
      "execution_count": 0,
      "outputs": []
    },
    {
      "cell_type": "markdown",
      "metadata": {
        "id": "_2H2gG59ZzbB",
        "colab_type": "text"
      },
      "source": [
        "### Define our conda_env"
      ]
    },
    {
      "cell_type": "code",
      "metadata": {
        "id": "_NJrpOrvZkdA",
        "colab_type": "code",
        "colab": {}
      },
      "source": [
        "# prepare the conda environment\n",
        "conda_env = {\n",
        "    'channels': ['defaults'],\n",
        "    'dependencies': [\n",
        "            f'python=3.6.9',\n",
        "      {\n",
        "          'pip':[\n",
        "            f'mlflow=={mlflow.__version__}',\n",
        "            f'torch=={torch.__version__}',\n",
        "            f'keras=={keras.__version__}',\n",
        "            f'tensorflow=={tensorflow.__version__}',\n",
        "            f'cloudpickle==1.3.0',\n",
        "            f'nltk=={nltk.__version__}'              \n",
        "    ]\n",
        "      }\n",
        "    ],\n",
        "    'name': 'toxicity-env'\n",
        "}"
      ],
      "execution_count": 0,
      "outputs": []
    },
    {
      "cell_type": "markdown",
      "metadata": {
        "id": "ghdATCsfa2NW",
        "colab_type": "text"
      },
      "source": [
        "### Define the model wrapper"
      ]
    },
    {
      "cell_type": "code",
      "metadata": {
        "id": "kignnbxRZ4oT",
        "colab_type": "code",
        "colab": {}
      },
      "source": [
        "class ModelWrapper(mlflow.pyfunc.PythonModel):\n",
        "\n",
        "  def load_context(self, context):\n",
        "    from model import NeuralNet\n",
        "    from config import NUM_AUX_TARGET\n",
        "\n",
        "    # Load in and deserialize the embeddings\n",
        "    with open(context.artifacts[\"embeddings\"], 'rb') as handle:\n",
        "      self._embedding_model = pickle.load(handle)\n",
        "    \n",
        "    # load in and deserialize the model tokenizer\n",
        "    with open(context.artifacts[\"tokenizer\"], 'rb') as handle:\n",
        "      self._model_tokenizer = pickle.load(handle)\n",
        "      \n",
        "    self._model = NeuralNet(self._embedding_model, NUM_AUX_TARGET)\n",
        "    self._model.load_state_dict(torch.load(context.artifacts[\"state_dict_model\"], map_location=\"cpu\"))\n",
        "    self._model.eval()\n",
        "    \n",
        "  def predict(self, context, input_model):\n",
        "    from preprocessing import preprocess\n",
        "    from utils import sigmoid\n",
        "    import pandas as pd\n",
        "    from keras.preprocessing.sequence import pad_sequences\n",
        "    import numpy as np\n",
        "\n",
        "\n",
        "    sentence = input_model.iloc[0]['sentence']\n",
        "    sentence = preprocess(sentence)\n",
        "    sentence_tokens = self._model_tokenizer.texts_to_sequences([sentence])\n",
        "    sentence_tokens = pad_sequences(sentence_tokens, 100)\n",
        "    \n",
        "    inputs = torch.tensor(sentence_tokens)\n",
        "    inputs = inputs.type(torch.LongTensor)\n",
        "    inputs = inputs.to(\"cpu\")\n",
        "    model_pred = self._model(inputs).detach().cpu().numpy()\n",
        "    predictions = sigmoid(model_pred)\n",
        "    pred_results = predictions[0].tolist()\n",
        "    results = {\n",
        "        \"toxicity_score\": [pred_results[0]],\n",
        "        \"target\": [pred_results[1]],\n",
        "        \"severe_toxicity\": [pred_results[2]],\n",
        "        \"obscene\": [pred_results[3]],\n",
        "        \"identity_attack\": [pred_results[4]],\n",
        "        \"insult\": [pred_results[5]],\n",
        "        \"threat\": [pred_results[6]]\n",
        "    }\n",
        "    return pd.DataFrame.from_dict(results)\n"
      ],
      "execution_count": 0,
      "outputs": []
    },
    {
      "cell_type": "code",
      "metadata": {
        "id": "ivdovzeCuZKb",
        "colab_type": "code",
        "colab": {}
      },
      "source": [
        "## Package the model\n",
        "# Location in our gdrive where we want the model to be saved\n",
        "model_path = f\"/content/drive/My Drive/toxicity_models/model\"\n",
        "\n",
        "\n",
        "\n",
        "# Package the model!\n",
        "mlflow.pyfunc.save_model(path=model_path,\n",
        "                         python_model=ModelWrapper(),\n",
        "                         artifacts=artifacts,\n",
        "                         conda_env=conda_env,\n",
        "                         code_path=['/content/model.py', '/content/preprocessing.py',\n",
        "                                    '/content/config.py','/content/utils.py', '/content/meta_data.txt'])"
      ],
      "execution_count": 0,
      "outputs": []
    },
    {
      "cell_type": "markdown",
      "metadata": {
        "id": "QlY1zNkau6Cj",
        "colab_type": "text"
      },
      "source": [
        "## Load the model and make predictions"
      ]
    },
    {
      "cell_type": "code",
      "metadata": {
        "id": "5fyNPktnuw7-",
        "colab_type": "code",
        "colab": {}
      },
      "source": [
        "model = mlflow.pyfunc.load_model(model_path)"
      ],
      "execution_count": 0,
      "outputs": []
    },
    {
      "cell_type": "code",
      "metadata": {
        "id": "jqXIa9d7u_Bw",
        "colab_type": "code",
        "colab": {}
      },
      "source": [
        "data = {'sentence':[\"How can a dummy dope like Harry Hurt, who wrote a failed book about me but doesn’t know me or anything about me, be on TV discussing Trump?\"]}"
      ],
      "execution_count": 0,
      "outputs": []
    },
    {
      "cell_type": "code",
      "metadata": {
        "id": "5sahR26WxBsa",
        "colab_type": "code",
        "colab": {}
      },
      "source": [
        "data_df = pd.DataFrame(data)"
      ],
      "execution_count": 0,
      "outputs": []
    },
    {
      "cell_type": "code",
      "metadata": {
        "id": "36pLmMQfxFSz",
        "colab_type": "code",
        "outputId": "5e395119-46b6-47d0-ce8e-5de42956bcec",
        "colab": {
          "base_uri": "https://localhost:8080/",
          "height": 80
        }
      },
      "source": [
        "model.predict(data_df)"
      ],
      "execution_count": 127,
      "outputs": [
        {
          "output_type": "execute_result",
          "data": {
            "text/html": [
              "<div>\n",
              "<style scoped>\n",
              "    .dataframe tbody tr th:only-of-type {\n",
              "        vertical-align: middle;\n",
              "    }\n",
              "\n",
              "    .dataframe tbody tr th {\n",
              "        vertical-align: top;\n",
              "    }\n",
              "\n",
              "    .dataframe thead th {\n",
              "        text-align: right;\n",
              "    }\n",
              "</style>\n",
              "<table border=\"1\" class=\"dataframe\">\n",
              "  <thead>\n",
              "    <tr style=\"text-align: right;\">\n",
              "      <th></th>\n",
              "      <th>toxicity_score</th>\n",
              "      <th>target</th>\n",
              "      <th>severe_toxicity</th>\n",
              "      <th>obscene</th>\n",
              "      <th>identity_attack</th>\n",
              "      <th>insult</th>\n",
              "      <th>threat</th>\n",
              "    </tr>\n",
              "  </thead>\n",
              "  <tbody>\n",
              "    <tr>\n",
              "      <th>0</th>\n",
              "      <td>0.111781</td>\n",
              "      <td>0.174091</td>\n",
              "      <td>0.005617</td>\n",
              "      <td>0.017647</td>\n",
              "      <td>0.027676</td>\n",
              "      <td>0.125623</td>\n",
              "      <td>0.01211</td>\n",
              "    </tr>\n",
              "  </tbody>\n",
              "</table>\n",
              "</div>"
            ],
            "text/plain": [
              "   toxicity_score    target  ...    insult   threat\n",
              "0        0.111781  0.174091  ...  0.125623  0.01211\n",
              "\n",
              "[1 rows x 7 columns]"
            ]
          },
          "metadata": {
            "tags": []
          },
          "execution_count": 127
        }
      ]
    },
    {
      "cell_type": "code",
      "metadata": {
        "id": "xZtJJD-WxINa",
        "colab_type": "code",
        "outputId": "d36cf0d1-15e8-4945-e553-e71e5fc0d096",
        "colab": {
          "base_uri": "https://localhost:8080/",
          "height": 80
        }
      },
      "source": [
        "data = {\"sentence\":[\"Truly weird Senator Rand Paul of Kentucky reminds me of a spoiled brat without a properly functioning brain. He was terrible at DEBATE!\"]}\n",
        "data_df = pd.DataFrame(data)\n",
        "model.predict(data_df)"
      ],
      "execution_count": 128,
      "outputs": [
        {
          "output_type": "execute_result",
          "data": {
            "text/html": [
              "<div>\n",
              "<style scoped>\n",
              "    .dataframe tbody tr th:only-of-type {\n",
              "        vertical-align: middle;\n",
              "    }\n",
              "\n",
              "    .dataframe tbody tr th {\n",
              "        vertical-align: top;\n",
              "    }\n",
              "\n",
              "    .dataframe thead th {\n",
              "        text-align: right;\n",
              "    }\n",
              "</style>\n",
              "<table border=\"1\" class=\"dataframe\">\n",
              "  <thead>\n",
              "    <tr style=\"text-align: right;\">\n",
              "      <th></th>\n",
              "      <th>toxicity_score</th>\n",
              "      <th>target</th>\n",
              "      <th>severe_toxicity</th>\n",
              "      <th>obscene</th>\n",
              "      <th>identity_attack</th>\n",
              "      <th>insult</th>\n",
              "      <th>threat</th>\n",
              "    </tr>\n",
              "  </thead>\n",
              "  <tbody>\n",
              "    <tr>\n",
              "      <th>0</th>\n",
              "      <td>0.442497</td>\n",
              "      <td>0.403986</td>\n",
              "      <td>0.019712</td>\n",
              "      <td>0.061419</td>\n",
              "      <td>0.062199</td>\n",
              "      <td>0.346573</td>\n",
              "      <td>0.027996</td>\n",
              "    </tr>\n",
              "  </tbody>\n",
              "</table>\n",
              "</div>"
            ],
            "text/plain": [
              "   toxicity_score    target  ...    insult    threat\n",
              "0        0.442497  0.403986  ...  0.346573  0.027996\n",
              "\n",
              "[1 rows x 7 columns]"
            ]
          },
          "metadata": {
            "tags": []
          },
          "execution_count": 128
        }
      ]
    },
    {
      "cell_type": "code",
      "metadata": {
        "id": "i67hSRqCyl_R",
        "colab_type": "code",
        "outputId": "9e1bb16c-2234-4385-e4f0-81878bc129cd",
        "colab": {
          "base_uri": "https://localhost:8080/",
          "height": 80
        }
      },
      "source": [
        "data = {\"sentence\":[\".@MeghanMcCain was terrible on @TheFive yesterday. Angry and obnoxious, she will never make it on T.V. @FoxNews can do so much better!\"]}\n",
        "data_df = pd.DataFrame(data)\n",
        "model.predict(data_df)\n"
      ],
      "execution_count": 129,
      "outputs": [
        {
          "output_type": "execute_result",
          "data": {
            "text/html": [
              "<div>\n",
              "<style scoped>\n",
              "    .dataframe tbody tr th:only-of-type {\n",
              "        vertical-align: middle;\n",
              "    }\n",
              "\n",
              "    .dataframe tbody tr th {\n",
              "        vertical-align: top;\n",
              "    }\n",
              "\n",
              "    .dataframe thead th {\n",
              "        text-align: right;\n",
              "    }\n",
              "</style>\n",
              "<table border=\"1\" class=\"dataframe\">\n",
              "  <thead>\n",
              "    <tr style=\"text-align: right;\">\n",
              "      <th></th>\n",
              "      <th>toxicity_score</th>\n",
              "      <th>target</th>\n",
              "      <th>severe_toxicity</th>\n",
              "      <th>obscene</th>\n",
              "      <th>identity_attack</th>\n",
              "      <th>insult</th>\n",
              "      <th>threat</th>\n",
              "    </tr>\n",
              "  </thead>\n",
              "  <tbody>\n",
              "    <tr>\n",
              "      <th>0</th>\n",
              "      <td>0.17153</td>\n",
              "      <td>0.224021</td>\n",
              "      <td>0.006515</td>\n",
              "      <td>0.021521</td>\n",
              "      <td>0.03267</td>\n",
              "      <td>0.170186</td>\n",
              "      <td>0.012993</td>\n",
              "    </tr>\n",
              "  </tbody>\n",
              "</table>\n",
              "</div>"
            ],
            "text/plain": [
              "   toxicity_score    target  ...    insult    threat\n",
              "0         0.17153  0.224021  ...  0.170186  0.012993\n",
              "\n",
              "[1 rows x 7 columns]"
            ]
          },
          "metadata": {
            "tags": []
          },
          "execution_count": 129
        }
      ]
    },
    {
      "cell_type": "code",
      "metadata": {
        "id": "9tRzCCZKy5kJ",
        "colab_type": "code",
        "outputId": "c749feb0-1ec4-4a8a-d703-bf47ebc7f2ab",
        "colab": {
          "base_uri": "https://localhost:8080/",
          "height": 80
        }
      },
      "source": [
        "data = {\"sentence\":[\".@FrankLuntz is a low class slob who came to my office looking for consulting work and I had zero interest. Now he picks anti-Trump panels!\"]}\n",
        "data_df = pd.DataFrame(data)\n",
        "model.predict(data_df)\n"
      ],
      "execution_count": 130,
      "outputs": [
        {
          "output_type": "execute_result",
          "data": {
            "text/html": [
              "<div>\n",
              "<style scoped>\n",
              "    .dataframe tbody tr th:only-of-type {\n",
              "        vertical-align: middle;\n",
              "    }\n",
              "\n",
              "    .dataframe tbody tr th {\n",
              "        vertical-align: top;\n",
              "    }\n",
              "\n",
              "    .dataframe thead th {\n",
              "        text-align: right;\n",
              "    }\n",
              "</style>\n",
              "<table border=\"1\" class=\"dataframe\">\n",
              "  <thead>\n",
              "    <tr style=\"text-align: right;\">\n",
              "      <th></th>\n",
              "      <th>toxicity_score</th>\n",
              "      <th>target</th>\n",
              "      <th>severe_toxicity</th>\n",
              "      <th>obscene</th>\n",
              "      <th>identity_attack</th>\n",
              "      <th>insult</th>\n",
              "      <th>threat</th>\n",
              "    </tr>\n",
              "  </thead>\n",
              "  <tbody>\n",
              "    <tr>\n",
              "      <th>0</th>\n",
              "      <td>0.009807</td>\n",
              "      <td>0.033485</td>\n",
              "      <td>0.001609</td>\n",
              "      <td>0.003656</td>\n",
              "      <td>0.008026</td>\n",
              "      <td>0.022197</td>\n",
              "      <td>0.005752</td>\n",
              "    </tr>\n",
              "  </tbody>\n",
              "</table>\n",
              "</div>"
            ],
            "text/plain": [
              "   toxicity_score    target  ...    insult    threat\n",
              "0        0.009807  0.033485  ...  0.022197  0.005752\n",
              "\n",
              "[1 rows x 7 columns]"
            ]
          },
          "metadata": {
            "tags": []
          },
          "execution_count": 130
        }
      ]
    },
    {
      "cell_type": "code",
      "metadata": {
        "id": "etDSnUJmzHuB",
        "colab_type": "code",
        "outputId": "51bbd979-1b13-4d42-fca9-1c46e8f483bd",
        "colab": {
          "base_uri": "https://localhost:8080/",
          "height": 80
        }
      },
      "source": [
        "data = {\"sentence\":[\"what an asshole\"]}\n",
        "data_df = pd.DataFrame(data)\n",
        "model.predict(data_df)"
      ],
      "execution_count": 131,
      "outputs": [
        {
          "output_type": "execute_result",
          "data": {
            "text/html": [
              "<div>\n",
              "<style scoped>\n",
              "    .dataframe tbody tr th:only-of-type {\n",
              "        vertical-align: middle;\n",
              "    }\n",
              "\n",
              "    .dataframe tbody tr th {\n",
              "        vertical-align: top;\n",
              "    }\n",
              "\n",
              "    .dataframe thead th {\n",
              "        text-align: right;\n",
              "    }\n",
              "</style>\n",
              "<table border=\"1\" class=\"dataframe\">\n",
              "  <thead>\n",
              "    <tr style=\"text-align: right;\">\n",
              "      <th></th>\n",
              "      <th>toxicity_score</th>\n",
              "      <th>target</th>\n",
              "      <th>severe_toxicity</th>\n",
              "      <th>obscene</th>\n",
              "      <th>identity_attack</th>\n",
              "      <th>insult</th>\n",
              "      <th>threat</th>\n",
              "    </tr>\n",
              "  </thead>\n",
              "  <tbody>\n",
              "    <tr>\n",
              "      <th>0</th>\n",
              "      <td>0.862094</td>\n",
              "      <td>0.685203</td>\n",
              "      <td>0.045963</td>\n",
              "      <td>0.156498</td>\n",
              "      <td>0.093172</td>\n",
              "      <td>0.664564</td>\n",
              "      <td>0.042097</td>\n",
              "    </tr>\n",
              "  </tbody>\n",
              "</table>\n",
              "</div>"
            ],
            "text/plain": [
              "   toxicity_score    target  ...    insult    threat\n",
              "0        0.862094  0.685203  ...  0.664564  0.042097\n",
              "\n",
              "[1 rows x 7 columns]"
            ]
          },
          "metadata": {
            "tags": []
          },
          "execution_count": 131
        }
      ]
    },
    {
      "cell_type": "code",
      "metadata": {
        "id": "q82uIDnLNaqd",
        "colab_type": "code",
        "colab": {
          "base_uri": "https://localhost:8080/",
          "height": 80
        },
        "outputId": "394b3a42-4808-4383-99a8-f8ed55a2f38d"
      },
      "source": [
        "data = {\"sentence\":[\"Stupid motherfucker\"]}\n",
        "data_df = pd.DataFrame(data)\n",
        "model.predict(data_df)"
      ],
      "execution_count": 132,
      "outputs": [
        {
          "output_type": "execute_result",
          "data": {
            "text/html": [
              "<div>\n",
              "<style scoped>\n",
              "    .dataframe tbody tr th:only-of-type {\n",
              "        vertical-align: middle;\n",
              "    }\n",
              "\n",
              "    .dataframe tbody tr th {\n",
              "        vertical-align: top;\n",
              "    }\n",
              "\n",
              "    .dataframe thead th {\n",
              "        text-align: right;\n",
              "    }\n",
              "</style>\n",
              "<table border=\"1\" class=\"dataframe\">\n",
              "  <thead>\n",
              "    <tr style=\"text-align: right;\">\n",
              "      <th></th>\n",
              "      <th>toxicity_score</th>\n",
              "      <th>target</th>\n",
              "      <th>severe_toxicity</th>\n",
              "      <th>obscene</th>\n",
              "      <th>identity_attack</th>\n",
              "      <th>insult</th>\n",
              "      <th>threat</th>\n",
              "    </tr>\n",
              "  </thead>\n",
              "  <tbody>\n",
              "    <tr>\n",
              "      <th>0</th>\n",
              "      <td>0.845771</td>\n",
              "      <td>0.674069</td>\n",
              "      <td>0.048841</td>\n",
              "      <td>0.159775</td>\n",
              "      <td>0.094412</td>\n",
              "      <td>0.651984</td>\n",
              "      <td>0.045888</td>\n",
              "    </tr>\n",
              "  </tbody>\n",
              "</table>\n",
              "</div>"
            ],
            "text/plain": [
              "   toxicity_score    target  ...    insult    threat\n",
              "0        0.845771  0.674069  ...  0.651984  0.045888\n",
              "\n",
              "[1 rows x 7 columns]"
            ]
          },
          "metadata": {
            "tags": []
          },
          "execution_count": 132
        }
      ]
    },
    {
      "cell_type": "markdown",
      "metadata": {
        "id": "1bfE5Xk5GcII",
        "colab_type": "text"
      },
      "source": [
        "The model can be improved by training it on more data.\n",
        "The packaged model can be integrated within a REST API for real-time serving."
      ]
    },
    {
      "cell_type": "code",
      "metadata": {
        "id": "R3ighhItzOWx",
        "colab_type": "code",
        "colab": {}
      },
      "source": [
        ""
      ],
      "execution_count": 0,
      "outputs": []
    }
  ]
}